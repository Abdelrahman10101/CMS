{
 "cells": [
  {
   "cell_type": "code",
   "execution_count": 1,
   "id": "dac966c3",
   "metadata": {
    "_cell_guid": "b1076dfc-b9ad-4769-8c92-a6c4dae69d19",
    "_uuid": "8f2839f25d086af736a60e9eeb907d3b93b6e0e5",
    "execution": {
     "iopub.execute_input": "2025-04-07T21:38:39.620433Z",
     "iopub.status.busy": "2025-04-07T21:38:39.620099Z",
     "iopub.status.idle": "2025-04-07T21:38:52.727773Z",
     "shell.execute_reply": "2025-04-07T21:38:52.726754Z"
    },
    "papermill": {
     "duration": 13.114174,
     "end_time": "2025-04-07T21:38:52.729293",
     "exception": false,
     "start_time": "2025-04-07T21:38:39.615119",
     "status": "completed"
    },
    "tags": []
   },
   "outputs": [
    {
     "name": "stdout",
     "output_type": "stream",
     "text": [
      "--2025-04-07 21:38:39--  https://cernbox.cern.ch/remote.php/dav/public-files/FbXw3V4XNyYB3oA/SingleElectronPt50_IMGCROPS_n249k_RHv1.hdf5\r\n",
      "Resolving cernbox.cern.ch (cernbox.cern.ch)... 137.138.120.151, 128.142.53.35, 128.142.53.28, ...\r\n",
      "Connecting to cernbox.cern.ch (cernbox.cern.ch)|137.138.120.151|:443... connected.\r\n",
      "HTTP request sent, awaiting response... 200 OK\r\n",
      "Length: 128927319 (123M) [application/octet-stream]\r\n",
      "Saving to: ‘electron.hdf5’\r\n",
      "\r\n",
      "electron.hdf5       100%[===================>] 122.95M  13.4MB/s    in 11s     \r\n",
      "\r\n",
      "2025-04-07 21:38:52 (11.2 MB/s) - ‘electron.hdf5’ saved [128927319/128927319]\r\n",
      "\r\n"
     ]
    }
   ],
   "source": [
    "! wget https://cernbox.cern.ch/remote.php/dav/public-files/FbXw3V4XNyYB3oA/SingleElectronPt50_IMGCROPS_n249k_RHv1.hdf5  -O electron.hdf5"
   ]
  },
  {
   "cell_type": "code",
   "execution_count": 2,
   "id": "14b74b97",
   "metadata": {
    "execution": {
     "iopub.execute_input": "2025-04-07T21:38:52.742041Z",
     "iopub.status.busy": "2025-04-07T21:38:52.741769Z",
     "iopub.status.idle": "2025-04-07T21:47:17.868079Z",
     "shell.execute_reply": "2025-04-07T21:47:17.866908Z"
    },
    "papermill": {
     "duration": 505.134463,
     "end_time": "2025-04-07T21:47:17.869974",
     "exception": false,
     "start_time": "2025-04-07T21:38:52.735511",
     "status": "completed"
    },
    "tags": []
   },
   "outputs": [
    {
     "name": "stdout",
     "output_type": "stream",
     "text": [
      "--2025-04-07 21:38:52--  https://cernbox.cern.ch/remote.php/dav/public-files/AtBT8y4MiQYFcgc/SinglePhotonPt50_IMGCROPS_n249k_RHv1.hdf5\r\n",
      "Resolving cernbox.cern.ch (cernbox.cern.ch)... 128.142.53.28, 128.142.170.17, 137.138.120.151, ...\r\n",
      "Connecting to cernbox.cern.ch (cernbox.cern.ch)|128.142.53.28|:443... connected.\r\n",
      "HTTP request sent, awaiting response... 200 OK\r\n",
      "Length: 119703858 (114M) [application/octet-stream]\r\n",
      "Saving to: ‘photon.hdf5’\r\n",
      "\r\n",
      "photon.hdf5         100%[===================>] 114.16M   154KB/s    in 8m 23s  \r\n",
      "\r\n",
      "2025-04-07 21:47:17 (232 KB/s) - ‘photon.hdf5’ saved [119703858/119703858]\r\n",
      "\r\n"
     ]
    }
   ],
   "source": [
    "! wget https://cernbox.cern.ch/remote.php/dav/public-files/AtBT8y4MiQYFcgc/SinglePhotonPt50_IMGCROPS_n249k_RHv1.hdf5  -O photon.hdf5"
   ]
  },
  {
   "cell_type": "code",
   "execution_count": 3,
   "id": "2f5ffc04",
   "metadata": {
    "execution": {
     "iopub.execute_input": "2025-04-07T21:47:18.056441Z",
     "iopub.status.busy": "2025-04-07T21:47:18.056098Z",
     "iopub.status.idle": "2025-04-07T21:47:23.697496Z",
     "shell.execute_reply": "2025-04-07T21:47:23.696798Z"
    },
    "papermill": {
     "duration": 5.730974,
     "end_time": "2025-04-07T21:47:23.699032",
     "exception": false,
     "start_time": "2025-04-07T21:47:17.968058",
     "status": "completed"
    },
    "tags": []
   },
   "outputs": [],
   "source": [
    "import h5py\n",
    "import numpy as np\n",
    "import torch\n",
    "from torch.utils.data import TensorDataset, DataLoader\n",
    "from sklearn.model_selection import train_test_split \n",
    "import torch.nn as nn\n",
    "import torch.nn.functional as F\n",
    "from tqdm import tqdm\n",
    "import torch.optim as optim\n",
    "from sklearn.metrics import accuracy_score, confusion_matrix, roc_auc_score, roc_curve, auc\n",
    "import matplotlib.pyplot as plt\n",
    "import seaborn as sns"
   ]
  },
  {
   "cell_type": "code",
   "execution_count": 4,
   "id": "83b29fe1",
   "metadata": {
    "execution": {
     "iopub.execute_input": "2025-04-07T21:47:23.868170Z",
     "iopub.status.busy": "2025-04-07T21:47:23.867775Z",
     "iopub.status.idle": "2025-04-07T21:47:23.882986Z",
     "shell.execute_reply": "2025-04-07T21:47:23.882278Z"
    },
    "papermill": {
     "duration": 0.100781,
     "end_time": "2025-04-07T21:47:23.884337",
     "exception": false,
     "start_time": "2025-04-07T21:47:23.783556",
     "status": "completed"
    },
    "tags": []
   },
   "outputs": [
    {
     "name": "stdout",
     "output_type": "stream",
     "text": [
      "Keys: ['X', 'y']\n",
      "Features shape: (249000, 32, 32, 2)\n",
      "Target shape: (249000,)\n",
      "Unique elements in target: [0.]\n",
      "Number of unique elements: 1\n"
     ]
    }
   ],
   "source": [
    "# Open the HDF5 file\n",
    "with h5py.File('/kaggle/working/photon.hdf5', 'r') as f:\n",
    "    # List all groups/datasets in the file\n",
    "    print(\"Keys:\", list(f.keys()))\n",
    "\n",
    "    features = f['X']\n",
    "    print(\"Features shape:\", features.shape)\n",
    "\n",
    "    target = f['y']\n",
    "    print(\"Target shape:\", target.shape)\n",
    "    \n",
    "    # Convert the target dataset to a numpy array and get unique values\n",
    "    target_array = np.array(target)\n",
    "    unique_elements = np.unique(target_array)\n",
    "    \n",
    "    print(\"Unique elements in target:\", unique_elements)\n",
    "    print(\"Number of unique elements:\", len(unique_elements))"
   ]
  },
  {
   "cell_type": "code",
   "execution_count": 5,
   "id": "bc0f8bd9",
   "metadata": {
    "execution": {
     "iopub.execute_input": "2025-04-07T21:47:24.054544Z",
     "iopub.status.busy": "2025-04-07T21:47:24.054254Z",
     "iopub.status.idle": "2025-04-07T21:47:24.064179Z",
     "shell.execute_reply": "2025-04-07T21:47:24.063295Z"
    },
    "papermill": {
     "duration": 0.096508,
     "end_time": "2025-04-07T21:47:24.065532",
     "exception": false,
     "start_time": "2025-04-07T21:47:23.969024",
     "status": "completed"
    },
    "tags": []
   },
   "outputs": [
    {
     "name": "stdout",
     "output_type": "stream",
     "text": [
      "Keys: ['X', 'y']\n",
      "Features shape: (249000, 32, 32, 2)\n",
      "Target shape: (249000,)\n",
      "Unique elements in target: [1.]\n",
      "Number of unique elements: 1\n"
     ]
    }
   ],
   "source": [
    "# Open the HDF5 file\n",
    "with h5py.File('/kaggle/working/electron.hdf5', 'r') as f:\n",
    "    # List all groups/datasets in the file\n",
    "    print(\"Keys:\", list(f.keys()))\n",
    "\n",
    "    features = f['X']\n",
    "    print(\"Features shape:\", features.shape)\n",
    "\n",
    "    target = f['y']\n",
    "    print(\"Target shape:\", target.shape)\n",
    "    \n",
    "    # Convert the target dataset to a numpy array and get unique values\n",
    "    target_array = np.array(target)\n",
    "    unique_elements = np.unique(target_array)\n",
    "    \n",
    "    print(\"Unique elements in target:\", unique_elements)\n",
    "    print(\"Number of unique elements:\", len(unique_elements))"
   ]
  },
  {
   "cell_type": "code",
   "execution_count": 6,
   "id": "acbc89d9",
   "metadata": {
    "execution": {
     "iopub.execute_input": "2025-04-07T21:47:24.236008Z",
     "iopub.status.busy": "2025-04-07T21:47:24.235720Z",
     "iopub.status.idle": "2025-04-07T21:47:30.675097Z",
     "shell.execute_reply": "2025-04-07T21:47:30.674147Z"
    },
    "papermill": {
     "duration": 6.526417,
     "end_time": "2025-04-07T21:47:30.676552",
     "exception": false,
     "start_time": "2025-04-07T21:47:24.150135",
     "status": "completed"
    },
    "tags": []
   },
   "outputs": [
    {
     "data": {
      "image/png": "[encoded data removed]",
      "text/plain": [
       "<Figure size 1000x500 with 4 Axes>"
      ]
     },
     "metadata": {},
     "output_type": "display_data"
    }
   ],
   "source": [
    "# Open the HDF5 file\n",
    "with h5py.File('/kaggle/working/electron.hdf5', 'r') as f:\n",
    "    # Assuming the dataset is called 'images' - adjust if needed\n",
    "    electron = f['X'][:]  # Load all data into memory\n",
    "    \n",
    "# Select a random sample\n",
    "sample_idx = np.random.randint(0, len(electron))\n",
    "sample = electron[sample_idx]\n",
    "\n",
    "# Create figure\n",
    "fig, (ax1, ax2) = plt.subplots(1, 2, figsize=(10, 5))\n",
    "\n",
    "# Plot energy channel (channel 0)\n",
    "im1 = ax1.imshow(sample[..., 0], cmap='viridis', vmin=0)\n",
    "ax1.set_title('Energy Deposit')\n",
    "plt.colorbar(im1, ax=ax1, fraction=0.046, pad=0.04)\n",
    "\n",
    "# Plot time channel (channel 1)\n",
    "im2 = ax2.imshow(sample[..., 1], cmap='plasma')\n",
    "ax2.set_title('Hit Time')\n",
    "plt.colorbar(im2, ax=ax2, fraction=0.046, pad=0.04)\n",
    "\n",
    "plt.suptitle(f'Electron Event Display (Sample #{sample_idx})')\n",
    "plt.tight_layout()\n",
    "plt.show()"
   ]
  },
  {
   "cell_type": "code",
   "execution_count": 7,
   "id": "983bc2e0",
   "metadata": {
    "execution": {
     "iopub.execute_input": "2025-04-07T21:47:30.850721Z",
     "iopub.status.busy": "2025-04-07T21:47:30.850413Z",
     "iopub.status.idle": "2025-04-07T21:47:31.089399Z",
     "shell.execute_reply": "2025-04-07T21:47:31.088482Z"
    },
    "papermill": {
     "duration": 0.328618,
     "end_time": "2025-04-07T21:47:31.091112",
     "exception": false,
     "start_time": "2025-04-07T21:47:30.762494",
     "status": "completed"
    },
    "tags": []
   },
   "outputs": [
    {
     "data": {
      "image/png": "[encoded data removed]",
      "text/plain": [
       "<Figure size 600x600 with 2 Axes>"
      ]
     },
     "metadata": {},
     "output_type": "display_data"
    }
   ],
   "source": [
    "# Create an RGB image combining both channels\n",
    "rgb_image = np.zeros((32, 32, 3))\n",
    "\n",
    "# Normalize channels\n",
    "energy_norm = sample[..., 0] / np.max(sample[..., 0])\n",
    "time_norm = sample[..., 1] / np.max(sample[..., 1])\n",
    "\n",
    "# Energy in green channel, time in red channel\n",
    "rgb_image[..., 1] = energy_norm  # Green = energy\n",
    "rgb_image[..., 0] = time_norm    # Red = time\n",
    "\n",
    "plt.figure(figsize=(6, 6))\n",
    "plt.imshow(rgb_image)\n",
    "plt.title('Energy (Green) + Time (Red) Overlay')\n",
    "plt.colorbar(label='Normalized Value')\n",
    "plt.show()"
   ]
  },
  {
   "cell_type": "code",
   "execution_count": 8,
   "id": "a6d434b2",
   "metadata": {
    "execution": {
     "iopub.execute_input": "2025-04-07T21:47:31.286763Z",
     "iopub.status.busy": "2025-04-07T21:47:31.286455Z",
     "iopub.status.idle": "2025-04-07T21:47:37.627188Z",
     "shell.execute_reply": "2025-04-07T21:47:37.626409Z"
    },
    "papermill": {
     "duration": 6.437516,
     "end_time": "2025-04-07T21:47:37.628757",
     "exception": false,
     "start_time": "2025-04-07T21:47:31.191241",
     "status": "completed"
    },
    "tags": []
   },
   "outputs": [
    {
     "data": {
      "image/png": "[encoded data removed]",
      "text/plain": [
       "<Figure size 1000x500 with 4 Axes>"
      ]
     },
     "metadata": {},
     "output_type": "display_data"
    }
   ],
   "source": [
    "# Open the HDF5 file\n",
    "with h5py.File('/kaggle/working/photon.hdf5', 'r') as f:\n",
    "    # Assuming the dataset is called 'images' - adjust if needed\n",
    "    photon = f['X'][:]  # Load all data into memory\n",
    "    \n",
    "# Select a random sample\n",
    "sample_idx = np.random.randint(0, len(photon))\n",
    "sample = photon[sample_idx]\n",
    "\n",
    "# Create figure\n",
    "fig, (ax1, ax2) = plt.subplots(1, 2, figsize=(10, 5))\n",
    "\n",
    "# Plot energy channel (channel 0)\n",
    "im1 = ax1.imshow(sample[..., 0], cmap='viridis', vmin=0)\n",
    "ax1.set_title('Energy Deposit')\n",
    "plt.colorbar(im1, ax=ax1, fraction=0.046, pad=0.04)\n",
    "\n",
    "# Plot time channel (channel 1)\n",
    "im2 = ax2.imshow(sample[..., 1], cmap='plasma')\n",
    "ax2.set_title('Hit Time')\n",
    "plt.colorbar(im2, ax=ax2, fraction=0.046, pad=0.04)\n",
    "\n",
    "plt.suptitle(f'Electron Event Display (Sample #{sample_idx})')\n",
    "plt.tight_layout()\n",
    "plt.show()"
   ]
  },
  {
   "cell_type": "code",
   "execution_count": 9,
   "id": "3162f8da",
   "metadata": {
    "execution": {
     "iopub.execute_input": "2025-04-07T21:47:37.805741Z",
     "iopub.status.busy": "2025-04-07T21:47:37.805432Z",
     "iopub.status.idle": "2025-04-07T21:47:38.033478Z",
     "shell.execute_reply": "2025-04-07T21:47:38.032563Z"
    },
    "papermill": {
     "duration": 0.317415,
     "end_time": "2025-04-07T21:47:38.034746",
     "exception": false,
     "start_time": "2025-04-07T21:47:37.717331",
     "status": "completed"
    },
    "tags": []
   },
   "outputs": [
    {
     "data": {
      "image/png": "[encoded data removed]",
      "text/plain": [
       "<Figure size 600x600 with 2 Axes>"
      ]
     },
     "metadata": {},
     "output_type": "display_data"
    }
   ],
   "source": [
    "# Create an RGB image combining both channels\n",
    "rgb_image = np.zeros((32, 32, 3))\n",
    "\n",
    "# Normalize channels\n",
    "energy_norm = sample[..., 0] / np.max(sample[..., 0])\n",
    "time_norm = sample[..., 1] / np.max(sample[..., 1])\n",
    "\n",
    "# Energy in green channel, time in red channel\n",
    "rgb_image[..., 1] = energy_norm  # Green = energy\n",
    "rgb_image[..., 0] = time_norm    # Red = time\n",
    "\n",
    "plt.figure(figsize=(6, 6))\n",
    "plt.imshow(rgb_image)\n",
    "plt.title('Energy (Green) + Time (Red) Overlay')\n",
    "plt.colorbar(label='Normalized Value')\n",
    "plt.show()"
   ]
  },
  {
   "cell_type": "markdown",
   "id": "d0965531",
   "metadata": {
    "papermill": {
     "duration": 0.087072,
     "end_time": "2025-04-07T21:47:38.210791",
     "exception": false,
     "start_time": "2025-04-07T21:47:38.123719",
     "status": "completed"
    },
    "tags": []
   },
   "source": [
    "# Preprocessing"
   ]
  },
  {
   "cell_type": "code",
   "execution_count": 10,
   "id": "41ea8846",
   "metadata": {
    "execution": {
     "iopub.execute_input": "2025-04-07T21:47:38.388263Z",
     "iopub.status.busy": "2025-04-07T21:47:38.387942Z",
     "iopub.status.idle": "2025-04-07T21:47:53.124999Z",
     "shell.execute_reply": "2025-04-07T21:47:53.124277Z"
    },
    "papermill": {
     "duration": 14.829187,
     "end_time": "2025-04-07T21:47:53.126682",
     "exception": false,
     "start_time": "2025-04-07T21:47:38.297495",
     "status": "completed"
    },
    "tags": []
   },
   "outputs": [],
   "source": [
    "def load_and_split(file_path, label, test_size=0.2, random_state=42):\n",
    "    \"\"\"Load data and split into train/test by label.\"\"\"\n",
    "    with h5py.File(file_path, 'r') as f:\n",
    "        X = f['X'][:]  # Shape: (N, 32, 32, 2)\n",
    "        y = np.full(len(X), label)  # Assign label (0 for electron, 1 for photon)\n",
    "    \n",
    "    # Split into train/test\n",
    "    X_train, X_test, y_train, y_test = train_test_split(\n",
    "        X, y, test_size=test_size, random_state=random_state\n",
    "    )\n",
    "    return X_train, X_test, y_train, y_test\n",
    "\n",
    "# Load and split electron (label=0) and photon (label=1)\n",
    "X_e_train, X_e_test, y_e_train, y_e_test = load_and_split('/kaggle/working/electron.hdf5', label=0)\n",
    "X_p_train, X_p_test, y_p_train, y_p_test = load_and_split('/kaggle/working/photon.hdf5', label=1)\n",
    "\n",
    "# Concatenate splits (your requested approach)\n",
    "X_train = np.concatenate([X_e_train, X_p_train])\n",
    "X_test = np.concatenate([X_e_test, X_p_test])\n",
    "y_train = np.concatenate([y_e_train, y_p_train])\n",
    "y_test = np.concatenate([y_e_test, y_p_test])\n",
    "\n",
    "# Convert to PyTorch tensors and permute dimensions (NCHW)\n",
    "X_train = torch.FloatTensor(X_train).permute(0, 3, 1, 2)  # (N, 2, 32, 32)\n",
    "X_test = torch.FloatTensor(X_test).permute(0, 3, 1, 2)\n",
    "y_train = torch.LongTensor(y_train)\n",
    "y_test = torch.LongTensor(y_test)\n",
    "\n",
    "# Create DataLoaders\n",
    "train_dataset = TensorDataset(X_train, y_train)\n",
    "test_dataset = TensorDataset(X_test, y_test)\n",
    "train_loader = DataLoader(train_dataset, batch_size=64, shuffle=True)\n",
    "test_loader = DataLoader(test_dataset, batch_size=64)"
   ]
  },
  {
   "cell_type": "markdown",
   "id": "d344b449",
   "metadata": {
    "papermill": {
     "duration": 0.130646,
     "end_time": "2025-04-07T21:47:53.345889",
     "exception": false,
     "start_time": "2025-04-07T21:47:53.215243",
     "status": "completed"
    },
    "tags": []
   },
   "source": [
    "# Model Architecture"
   ]
  },
  {
   "cell_type": "code",
   "execution_count": 11,
   "id": "bb917a4f",
   "metadata": {
    "execution": {
     "iopub.execute_input": "2025-04-07T21:47:53.523623Z",
     "iopub.status.busy": "2025-04-07T21:47:53.523308Z",
     "iopub.status.idle": "2025-04-07T21:47:53.532960Z",
     "shell.execute_reply": "2025-04-07T21:47:53.532333Z"
    },
    "papermill": {
     "duration": 0.10046,
     "end_time": "2025-04-07T21:47:53.534187",
     "exception": false,
     "start_time": "2025-04-07T21:47:53.433727",
     "status": "completed"
    },
    "tags": []
   },
   "outputs": [],
   "source": [
    "class ResidualBlock(nn.Module):\n",
    "    def __init__(self, in_channels, out_channels, stride=1):\n",
    "        super().__init__()\n",
    "        self.conv1 = nn.Conv2d(in_channels, out_channels, kernel_size=3, stride=stride, padding=1, bias=False)\n",
    "        self.bn1 = nn.BatchNorm2d(out_channels)\n",
    "        self.conv2 = nn.Conv2d(out_channels, out_channels, kernel_size=3, stride=1, padding=1, bias=False)\n",
    "        self.bn2 = nn.BatchNorm2d(out_channels)\n",
    "        \n",
    "        self.shortcut = nn.Sequential()\n",
    "        if stride != 1 or in_channels != out_channels:\n",
    "            self.shortcut = nn.Sequential(\n",
    "                nn.Conv2d(in_channels, out_channels, kernel_size=1, stride=stride, bias=False),\n",
    "                nn.BatchNorm2d(out_channels)\n",
    "            )\n",
    "\n",
    "    def forward(self, x):\n",
    "        out = F.relu(self.bn1(self.conv1(x)))\n",
    "        out = self.bn2(self.conv2(out))\n",
    "        out += self.shortcut(x)\n",
    "        return F.relu(out)\n",
    "\n",
    "class ResNet15(nn.Module):\n",
    "    def __init__(self, num_classes=2):\n",
    "        super().__init__()\n",
    "        self.in_channels = 64\n",
    "        self.conv1 = nn.Conv2d(2, 64, kernel_size=3, stride=1, padding=1, bias=False)\n",
    "        self.bn1 = nn.BatchNorm2d(64)\n",
    "        \n",
    "        # ResNet blocks: [64, 128, 256, 512] channels\n",
    "        self.layer1 = self._make_layer(64, 2, stride=1)\n",
    "        self.layer2 = self._make_layer(128, 2, stride=2)\n",
    "        self.layer3 = self._make_layer(256, 2, stride=2)\n",
    "        self.layer4 = self._make_layer(512, 2, stride=2)\n",
    "        \n",
    "        self.avgpool = nn.AdaptiveAvgPool2d((1, 1))\n",
    "        self.fc = nn.Linear(512, num_classes)\n",
    "\n",
    "    def _make_layer(self, out_channels, blocks, stride):\n",
    "        layers = []\n",
    "        layers.append(ResidualBlock(self.in_channels, out_channels, stride))\n",
    "        self.in_channels = out_channels\n",
    "        for _ in range(1, blocks):\n",
    "            layers.append(ResidualBlock(out_channels, out_channels, stride=1))\n",
    "        return nn.Sequential(*layers)\n",
    "\n",
    "    def forward(self, x):\n",
    "        x = F.relu(self.bn1(self.conv1(x)))\n",
    "        x = self.layer1(x)\n",
    "        x = self.layer2(x)\n",
    "        x = self.layer3(x)\n",
    "        x = self.layer4(x)\n",
    "        x = self.avgpool(x)\n",
    "        x = x.view(x.size(0), -1)\n",
    "        x = self.fc(x)\n",
    "        return x"
   ]
  },
  {
   "cell_type": "markdown",
   "id": "16bb9057",
   "metadata": {
    "papermill": {
     "duration": 0.094193,
     "end_time": "2025-04-07T21:47:53.715150",
     "exception": false,
     "start_time": "2025-04-07T21:47:53.620957",
     "status": "completed"
    },
    "tags": []
   },
   "source": [
    "# Model Training"
   ]
  },
  {
   "cell_type": "code",
   "execution_count": 12,
   "id": "35f9ae9c",
   "metadata": {
    "execution": {
     "iopub.execute_input": "2025-04-07T21:47:53.924014Z",
     "iopub.status.busy": "2025-04-07T21:47:53.923716Z",
     "iopub.status.idle": "2025-04-08T01:00:15.551590Z",
     "shell.execute_reply": "2025-04-08T01:00:15.550616Z"
    },
    "papermill": {
     "duration": 11541.727334,
     "end_time": "2025-04-08T01:00:15.552911",
     "exception": false,
     "start_time": "2025-04-07T21:47:53.825577",
     "status": "completed"
    },
    "tags": []
   },
   "outputs": [
    {
     "name": "stderr",
     "output_type": "stream",
     "text": [
      "/usr/local/lib/python3.10/dist-packages/torch/optim/lr_scheduler.py:62: UserWarning: The verbose parameter is deprecated. Please use get_last_lr() to access the learning rate.\n",
      "  warnings.warn(\n",
      "                                                                            \r"
     ]
    },
    {
     "name": "stdout",
     "output_type": "stream",
     "text": [
      "Epoch 1: Train Acc = 0.6670, Train AUC = 0.7200, Val Acc = 0.6939, Val AUC = 0.7636, LR = 0.001000\n"
     ]
    },
    {
     "name": "stderr",
     "output_type": "stream",
     "text": [
      "                                                                           \r"
     ]
    },
    {
     "name": "stdout",
     "output_type": "stream",
     "text": [
      "Epoch 2: Train Acc = 0.7105, Train AUC = 0.7720, Val Acc = 0.7086, Val AUC = 0.7782, LR = 0.001000\n"
     ]
    },
    {
     "name": "stderr",
     "output_type": "stream",
     "text": [
      "                                                                            \r"
     ]
    },
    {
     "name": "stdout",
     "output_type": "stream",
     "text": [
      "Epoch 3: Train Acc = 0.7164, Train AUC = 0.7800, Val Acc = 0.7148, Val AUC = 0.7809, LR = 0.001000\n"
     ]
    },
    {
     "name": "stderr",
     "output_type": "stream",
     "text": [
      "                                                                            \r"
     ]
    },
    {
     "name": "stdout",
     "output_type": "stream",
     "text": [
      "Epoch 4: Train Acc = 0.7193, Train AUC = 0.7839, Val Acc = 0.7110, Val AUC = 0.7839, LR = 0.001000\n"
     ]
    },
    {
     "name": "stderr",
     "output_type": "stream",
     "text": [
      "                                                                            \r"
     ]
    },
    {
     "name": "stdout",
     "output_type": "stream",
     "text": [
      "Epoch 5: Train Acc = 0.7216, Train AUC = 0.7867, Val Acc = 0.7220, Val AUC = 0.7899, LR = 0.001000\n"
     ]
    },
    {
     "name": "stderr",
     "output_type": "stream",
     "text": [
      "                                                                           \r"
     ]
    },
    {
     "name": "stdout",
     "output_type": "stream",
     "text": [
      "Epoch 6: Train Acc = 0.7232, Train AUC = 0.7890, Val Acc = 0.7062, Val AUC = 0.7837, LR = 0.001000\n"
     ]
    },
    {
     "name": "stderr",
     "output_type": "stream",
     "text": [
      "                                                                            \r"
     ]
    },
    {
     "name": "stdout",
     "output_type": "stream",
     "text": [
      "Epoch 7: Train Acc = 0.7246, Train AUC = 0.7904, Val Acc = 0.7115, Val AUC = 0.7863, LR = 0.001000\n"
     ]
    },
    {
     "name": "stderr",
     "output_type": "stream",
     "text": [
      "                                                                            \r"
     ]
    },
    {
     "name": "stdout",
     "output_type": "stream",
     "text": [
      "Epoch 8: Train Acc = 0.7251, Train AUC = 0.7917, Val Acc = 0.7248, Val AUC = 0.7931, LR = 0.001000\n"
     ]
    },
    {
     "name": "stderr",
     "output_type": "stream",
     "text": [
      "                                                                            \r"
     ]
    },
    {
     "name": "stdout",
     "output_type": "stream",
     "text": [
      "Epoch 9: Train Acc = 0.7257, Train AUC = 0.7927, Val Acc = 0.7261, Val AUC = 0.7958, LR = 0.001000\n"
     ]
    },
    {
     "name": "stderr",
     "output_type": "stream",
     "text": [
      "                                                                             \r"
     ]
    },
    {
     "name": "stdout",
     "output_type": "stream",
     "text": [
      "Epoch 10: Train Acc = 0.7276, Train AUC = 0.7937, Val Acc = 0.7124, Val AUC = 0.7848, LR = 0.001000\n"
     ]
    },
    {
     "name": "stderr",
     "output_type": "stream",
     "text": [
      "                                                                             \r"
     ]
    },
    {
     "name": "stdout",
     "output_type": "stream",
     "text": [
      "Epoch 11: Train Acc = 0.7273, Train AUC = 0.7946, Val Acc = 0.7279, Val AUC = 0.7970, LR = 0.001000\n"
     ]
    },
    {
     "name": "stderr",
     "output_type": "stream",
     "text": [
      "                                                                             \r"
     ]
    },
    {
     "name": "stdout",
     "output_type": "stream",
     "text": [
      "Epoch 12: Train Acc = 0.7276, Train AUC = 0.7951, Val Acc = 0.7287, Val AUC = 0.7972, LR = 0.001000\n"
     ]
    },
    {
     "name": "stderr",
     "output_type": "stream",
     "text": [
      "                                                                             \r"
     ]
    },
    {
     "name": "stdout",
     "output_type": "stream",
     "text": [
      "Epoch 13: Train Acc = 0.7288, Train AUC = 0.7958, Val Acc = 0.7304, Val AUC = 0.8011, LR = 0.001000\n"
     ]
    },
    {
     "name": "stderr",
     "output_type": "stream",
     "text": [
      "                                                                             \r"
     ]
    },
    {
     "name": "stdout",
     "output_type": "stream",
     "text": [
      "Epoch 14: Train Acc = 0.7287, Train AUC = 0.7965, Val Acc = 0.7298, Val AUC = 0.7998, LR = 0.001000\n"
     ]
    },
    {
     "name": "stderr",
     "output_type": "stream",
     "text": [
      "                                                                             \r"
     ]
    },
    {
     "name": "stdout",
     "output_type": "stream",
     "text": [
      "Epoch 15: Train Acc = 0.7291, Train AUC = 0.7970, Val Acc = 0.7304, Val AUC = 0.7983, LR = 0.001000\n"
     ]
    },
    {
     "name": "stderr",
     "output_type": "stream",
     "text": [
      "                                                                            \r"
     ]
    },
    {
     "name": "stdout",
     "output_type": "stream",
     "text": [
      "Epoch 16: Train Acc = 0.7294, Train AUC = 0.7969, Val Acc = 0.7151, Val AUC = 0.7929, LR = 0.001000\n"
     ]
    },
    {
     "name": "stderr",
     "output_type": "stream",
     "text": [
      "                                                                             \r"
     ]
    },
    {
     "name": "stdout",
     "output_type": "stream",
     "text": [
      "Epoch 17: Train Acc = 0.7300, Train AUC = 0.7977, Val Acc = 0.7271, Val AUC = 0.7958, LR = 0.001000\n"
     ]
    },
    {
     "name": "stderr",
     "output_type": "stream",
     "text": [
      "                                                                             \r"
     ]
    },
    {
     "name": "stdout",
     "output_type": "stream",
     "text": [
      "Epoch 18: Train Acc = 0.7340, Train AUC = 0.8027, Val Acc = 0.7331, Val AUC = 0.8047, LR = 0.000500\n"
     ]
    },
    {
     "name": "stderr",
     "output_type": "stream",
     "text": [
      "                                                                             \r"
     ]
    },
    {
     "name": "stdout",
     "output_type": "stream",
     "text": [
      "Epoch 19: Train Acc = 0.7348, Train AUC = 0.8037, Val Acc = 0.7268, Val AUC = 0.7984, LR = 0.000500\n"
     ]
    },
    {
     "name": "stderr",
     "output_type": "stream",
     "text": [
      "                                                                             \r"
     ]
    },
    {
     "name": "stdout",
     "output_type": "stream",
     "text": [
      "Epoch 20: Train Acc = 0.7348, Train AUC = 0.8044, Val Acc = 0.7311, Val AUC = 0.8043, LR = 0.000500\n"
     ]
    },
    {
     "name": "stderr",
     "output_type": "stream",
     "text": [
      "                                                                             \r"
     ]
    },
    {
     "name": "stdout",
     "output_type": "stream",
     "text": [
      "Epoch 21: Train Acc = 0.7349, Train AUC = 0.8047, Val Acc = 0.7332, Val AUC = 0.8038, LR = 0.000500\n"
     ]
    },
    {
     "name": "stderr",
     "output_type": "stream",
     "text": [
      "                                                                             \r"
     ]
    },
    {
     "name": "stdout",
     "output_type": "stream",
     "text": [
      "Epoch 22: Train Acc = 0.7354, Train AUC = 0.8048, Val Acc = 0.7317, Val AUC = 0.8031, LR = 0.000500\n"
     ]
    },
    {
     "name": "stderr",
     "output_type": "stream",
     "text": [
      "                                                                             \r"
     ]
    },
    {
     "name": "stdout",
     "output_type": "stream",
     "text": [
      "Epoch 23: Train Acc = 0.7385, Train AUC = 0.8083, Val Acc = 0.7364, Val AUC = 0.8080, LR = 0.000250\n"
     ]
    },
    {
     "name": "stderr",
     "output_type": "stream",
     "text": [
      "                                                                             \r"
     ]
    },
    {
     "name": "stdout",
     "output_type": "stream",
     "text": [
      "Epoch 24: Train Acc = 0.7386, Train AUC = 0.8087, Val Acc = 0.7361, Val AUC = 0.8080, LR = 0.000250\n"
     ]
    },
    {
     "name": "stderr",
     "output_type": "stream",
     "text": [
      "                                                                             \r"
     ]
    },
    {
     "name": "stdout",
     "output_type": "stream",
     "text": [
      "Epoch 25: Train Acc = 0.7388, Train AUC = 0.8093, Val Acc = 0.7370, Val AUC = 0.8077, LR = 0.000250\n"
     ]
    },
    {
     "name": "stderr",
     "output_type": "stream",
     "text": [
      "                                                                             \r"
     ]
    },
    {
     "name": "stdout",
     "output_type": "stream",
     "text": [
      "Epoch 26: Train Acc = 0.7397, Train AUC = 0.8097, Val Acc = 0.7355, Val AUC = 0.8077, LR = 0.000250\n"
     ]
    },
    {
     "name": "stderr",
     "output_type": "stream",
     "text": [
      "                                                                             \r"
     ]
    },
    {
     "name": "stdout",
     "output_type": "stream",
     "text": [
      "Epoch 27: Train Acc = 0.7394, Train AUC = 0.8100, Val Acc = 0.7360, Val AUC = 0.8078, LR = 0.000250\n"
     ]
    },
    {
     "name": "stderr",
     "output_type": "stream",
     "text": [
      "                                                                             \r"
     ]
    },
    {
     "name": "stdout",
     "output_type": "stream",
     "text": [
      "Epoch 28: Train Acc = 0.7408, Train AUC = 0.8120, Val Acc = 0.7375, Val AUC = 0.8096, LR = 0.000125\n"
     ]
    },
    {
     "name": "stderr",
     "output_type": "stream",
     "text": [
      "                                                                             \r"
     ]
    },
    {
     "name": "stdout",
     "output_type": "stream",
     "text": [
      "Epoch 29: Train Acc = 0.7412, Train AUC = 0.8127, Val Acc = 0.7383, Val AUC = 0.8097, LR = 0.000125\n"
     ]
    },
    {
     "name": "stderr",
     "output_type": "stream",
     "text": [
      "                                                                             \r"
     ]
    },
    {
     "name": "stdout",
     "output_type": "stream",
     "text": [
      "Epoch 30: Train Acc = 0.7418, Train AUC = 0.8130, Val Acc = 0.7377, Val AUC = 0.8097, LR = 0.000125\n"
     ]
    },
    {
     "name": "stderr",
     "output_type": "stream",
     "text": [
      "                                                                             \r"
     ]
    },
    {
     "name": "stdout",
     "output_type": "stream",
     "text": [
      "Epoch 31: Train Acc = 0.7421, Train AUC = 0.8133, Val Acc = 0.7381, Val AUC = 0.8093, LR = 0.000125\n"
     ]
    },
    {
     "name": "stderr",
     "output_type": "stream",
     "text": [
      "                                                                            \r"
     ]
    },
    {
     "name": "stdout",
     "output_type": "stream",
     "text": [
      "Epoch 32: Train Acc = 0.7422, Train AUC = 0.8133, Val Acc = 0.7374, Val AUC = 0.8092, LR = 0.000125\n"
     ]
    },
    {
     "name": "stderr",
     "output_type": "stream",
     "text": [
      "                                                                             \r"
     ]
    },
    {
     "name": "stdout",
     "output_type": "stream",
     "text": [
      "Epoch 33: Train Acc = 0.7432, Train AUC = 0.8148, Val Acc = 0.7390, Val AUC = 0.8100, LR = 0.000063\n"
     ]
    },
    {
     "name": "stderr",
     "output_type": "stream",
     "text": [
      "                                                                            \r"
     ]
    },
    {
     "name": "stdout",
     "output_type": "stream",
     "text": [
      "Epoch 34: Train Acc = 0.7436, Train AUC = 0.8151, Val Acc = 0.7385, Val AUC = 0.8093, LR = 0.000063\n"
     ]
    },
    {
     "name": "stderr",
     "output_type": "stream",
     "text": [
      "                                                                             \r"
     ]
    },
    {
     "name": "stdout",
     "output_type": "stream",
     "text": [
      "Epoch 35: Train Acc = 0.7433, Train AUC = 0.8153, Val Acc = 0.7395, Val AUC = 0.8104, LR = 0.000063\n"
     ]
    },
    {
     "name": "stderr",
     "output_type": "stream",
     "text": [
      "                                                                             \r"
     ]
    },
    {
     "name": "stdout",
     "output_type": "stream",
     "text": [
      "Epoch 36: Train Acc = 0.7431, Train AUC = 0.8153, Val Acc = 0.7388, Val AUC = 0.8103, LR = 0.000063\n"
     ]
    },
    {
     "name": "stderr",
     "output_type": "stream",
     "text": [
      "                                                                             \r"
     ]
    },
    {
     "name": "stdout",
     "output_type": "stream",
     "text": [
      "Epoch 37: Train Acc = 0.7440, Train AUC = 0.8156, Val Acc = 0.7373, Val AUC = 0.8100, LR = 0.000063\n"
     ]
    },
    {
     "name": "stderr",
     "output_type": "stream",
     "text": [
      "                                                                             \r"
     ]
    },
    {
     "name": "stdout",
     "output_type": "stream",
     "text": [
      "Epoch 38: Train Acc = 0.7438, Train AUC = 0.8156, Val Acc = 0.7389, Val AUC = 0.8100, LR = 0.000063\n"
     ]
    },
    {
     "name": "stderr",
     "output_type": "stream",
     "text": [
      "                                                                             \r"
     ]
    },
    {
     "name": "stdout",
     "output_type": "stream",
     "text": [
      "Epoch 39: Train Acc = 0.7437, Train AUC = 0.8159, Val Acc = 0.7396, Val AUC = 0.8103, LR = 0.000063\n"
     ]
    },
    {
     "name": "stderr",
     "output_type": "stream",
     "text": [
      "                                                                             \r"
     ]
    },
    {
     "name": "stdout",
     "output_type": "stream",
     "text": [
      "Epoch 40: Train Acc = 0.7447, Train AUC = 0.8170, Val Acc = 0.7398, Val AUC = 0.8104, LR = 0.000031\n"
     ]
    },
    {
     "name": "stderr",
     "output_type": "stream",
     "text": [
      "                                                                             \r"
     ]
    },
    {
     "name": "stdout",
     "output_type": "stream",
     "text": [
      "Epoch 41: Train Acc = 0.7441, Train AUC = 0.8169, Val Acc = 0.7392, Val AUC = 0.8105, LR = 0.000031\n"
     ]
    },
    {
     "name": "stderr",
     "output_type": "stream",
     "text": [
      "                                                                             \r"
     ]
    },
    {
     "name": "stdout",
     "output_type": "stream",
     "text": [
      "Epoch 42: Train Acc = 0.7447, Train AUC = 0.8170, Val Acc = 0.7389, Val AUC = 0.8104, LR = 0.000031\n"
     ]
    },
    {
     "name": "stderr",
     "output_type": "stream",
     "text": [
      "                                                                            \r"
     ]
    },
    {
     "name": "stdout",
     "output_type": "stream",
     "text": [
      "Epoch 43: Train Acc = 0.7449, Train AUC = 0.8170, Val Acc = 0.7390, Val AUC = 0.8103, LR = 0.000031\n"
     ]
    },
    {
     "name": "stderr",
     "output_type": "stream",
     "text": [
      "                                                                             \r"
     ]
    },
    {
     "name": "stdout",
     "output_type": "stream",
     "text": [
      "Epoch 44: Train Acc = 0.7454, Train AUC = 0.8175, Val Acc = 0.7390, Val AUC = 0.8106, LR = 0.000016\n"
     ]
    },
    {
     "name": "stderr",
     "output_type": "stream",
     "text": [
      "                                                                             \r"
     ]
    },
    {
     "name": "stdout",
     "output_type": "stream",
     "text": [
      "Epoch 45: Train Acc = 0.7455, Train AUC = 0.8179, Val Acc = 0.7386, Val AUC = 0.8104, LR = 0.000016\n",
      "Early stopping at epoch 45\n",
      "Best Validation Accuracy: 0.7398, Best AUC: 0.8104\n"
     ]
    },
    {
     "name": "stderr",
     "output_type": "stream",
     "text": [
      "<ipython-input-12-ae1ac1a9ba1f>:82: FutureWarning: You are using `torch.load` with `weights_only=False` (the current default value), which uses the default pickle module implicitly. It is possible to construct malicious pickle data which will execute arbitrary code during unpickling (See https://github.com/pytorch/pytorch/blob/main/SECURITY.md#untrusted-models for more details). In a future release, the default value for `weights_only` will be flipped to `True`. This limits the functions that could be executed during unpickling. Arbitrary objects will no longer be allowed to be loaded via this mode unless they are explicitly allowlisted by the user via `torch.serialization.add_safe_globals`. We recommend you start setting `weights_only=True` for any use case where you don't have full control of the loaded file. Please open an issue on GitHub for any issues related to this experimental feature.\n",
      "  model.load_state_dict(torch.load('best_model.pth'))\n"
     ]
    },
    {
     "name": "stdout",
     "output_type": "stream",
     "text": [
      "Final Test AUC: 0.8104\n"
     ]
    },
    {
     "data": {
      "image/png": "[encoded data removed]",
      "text/plain": [
       "<Figure size 800x600 with 1 Axes>"
      ]
     },
     "metadata": {},
     "output_type": "display_data"
    }
   ],
   "source": [
    "device = torch.device('cuda' if torch.cuda.is_available() else 'cpu')\n",
    "model = ResNet15().to(device)\n",
    "criterion = nn.CrossEntropyLoss()\n",
    "optimizer = optim.Adam(model.parameters(), lr=0.001, weight_decay=1e-4)\n",
    "scheduler = optim.lr_scheduler.ReduceLROnPlateau(optimizer, mode='max', patience=3, factor=0.5, verbose=True)\n",
    "\n",
    "# Early stopping\n",
    "best_acc = 0.0\n",
    "patience = 5\n",
    "epochs_no_improve = 0\n",
    "early_stop = False\n",
    "\n",
    "for epoch in range(100):\n",
    "    model.train()\n",
    "    train_loss = 0.0\n",
    "    train_preds, train_true = [], []\n",
    "    train_probs = []  # Store probabilities for AUC calculation\n",
    "    \n",
    "    progress_bar = tqdm(train_loader, desc=f'Epoch {epoch+1}/100', leave=False)\n",
    "    \n",
    "    for inputs, labels in progress_bar:\n",
    "        inputs, labels = inputs.to(device), labels.to(device)\n",
    "        optimizer.zero_grad()\n",
    "        outputs = model(inputs)\n",
    "        loss = criterion(outputs, labels)\n",
    "        loss.backward()\n",
    "        optimizer.step()\n",
    "        \n",
    "        train_loss += loss.item()\n",
    "        # Get probabilities (softmax) for AUC calculation\n",
    "        prob = torch.softmax(outputs, dim=1)\n",
    "        train_probs.extend(prob[:, 1].cpu().detach().numpy())  # Assuming binary classification\n",
    "        train_preds.extend(outputs.argmax(dim=1).cpu().numpy())\n",
    "        train_true.extend(labels.cpu().numpy())\n",
    "        \n",
    "        progress_bar.set_postfix(loss=loss.item())\n",
    "    \n",
    "    # Calculate training accuracy and AUC\n",
    "    train_acc = accuracy_score(train_true, train_preds)\n",
    "    train_auc = roc_auc_score(train_true, train_probs)\n",
    "    \n",
    "    # Validation\n",
    "    model.eval()\n",
    "    val_preds, val_true = [], []\n",
    "    val_probs = []  # Store probabilities for AUC calculation\n",
    "    with torch.no_grad():\n",
    "        for inputs, labels in test_loader:\n",
    "            inputs, labels = inputs.to(device), labels.to(device)\n",
    "            outputs = model(inputs)\n",
    "            prob = torch.softmax(outputs, dim=1)\n",
    "            val_probs.extend(prob[:, 1].cpu().numpy())  # Assuming binary classification\n",
    "            val_preds.extend(outputs.argmax(dim=1).cpu().numpy())\n",
    "            val_true.extend(labels.cpu().numpy())\n",
    "    \n",
    "    val_acc = accuracy_score(val_true, val_preds)\n",
    "    val_auc = roc_auc_score(val_true, val_probs)\n",
    "    \n",
    "    # Get current learning rate\n",
    "    current_lr = optimizer.param_groups[0]['lr']\n",
    "    \n",
    "    print(f'Epoch {epoch+1}: Train Acc = {train_acc:.4f}, Train AUC = {train_auc:.4f}, Val Acc = {val_acc:.4f}, Val AUC = {val_auc:.4f}, LR = {current_lr:.6f}')\n",
    "    \n",
    "    # Early stopping and model checkpoint - now considering both accuracy and AUC\n",
    "    if val_acc > best_acc:\n",
    "        best_acc = val_acc\n",
    "        best_auc = val_auc\n",
    "        torch.save(model.state_dict(), 'best_model.pth')\n",
    "        epochs_no_improve = 0\n",
    "    else:\n",
    "        epochs_no_improve += 1\n",
    "        if epochs_no_improve >= patience:\n",
    "            print(f'Early stopping at epoch {epoch+1}')\n",
    "            early_stop = True\n",
    "    \n",
    "    # You might want to step the scheduler based on AUC instead of accuracy\n",
    "    scheduler.step(val_auc)  # or val_acc if you prefer\n",
    "    \n",
    "    if early_stop:\n",
    "        break\n",
    "\n",
    "# Load best model\n",
    "model.load_state_dict(torch.load('best_model.pth'))\n",
    "print(f'Best Validation Accuracy: {best_acc:.4f}, Best AUC: {best_auc:.4f}')\n",
    "\n",
    "# Generate confusion matrix and final AUC\n",
    "model.eval()\n",
    "all_preds, all_true = [], []\n",
    "all_probs = []\n",
    "with torch.no_grad():\n",
    "    for inputs, labels in test_loader:\n",
    "        inputs, labels = inputs.to(device), labels.to(device)\n",
    "        outputs = model(inputs)\n",
    "        prob = torch.softmax(outputs, dim=1)\n",
    "        all_probs.extend(prob[:, 1].cpu().numpy())  \n",
    "        all_preds.extend(outputs.argmax(dim=1).cpu().numpy())\n",
    "        all_true.extend(labels.cpu().numpy())\n",
    "\n",
    "# Calculate final test AUC\n",
    "test_auc = roc_auc_score(all_true, all_probs)\n",
    "print(f'Final Test AUC: {test_auc:.4f}')\n",
    "\n",
    "# Compute ROC curve\n",
    "fpr, tpr, thresholds = roc_curve(all_true, all_probs)\n",
    "roc_auc = auc(fpr, tpr)\n",
    "\n",
    "# Plot ROC curve\n",
    "plt.figure(figsize=(8, 6))\n",
    "plt.plot(fpr, tpr, color='darkorange', lw=2, label=f'ROC curve (area = {roc_auc:.2f})')\n",
    "plt.plot([0, 1], [0, 1], color='navy', lw=2, linestyle='--')\n",
    "plt.xlim([0.0, 1.0])\n",
    "plt.ylim([0.0, 1.05])\n",
    "plt.xlabel('False Positive Rate')\n",
    "plt.ylabel('True Positive Rate')\n",
    "plt.title('Receiver Operating Characteristic (ROC) Curve')\n",
    "plt.legend(loc=\"lower right\")\n",
    "plt.savefig('roc_curve.png')  # Save the plot\n",
    "plt.show()"
   ]
  },
  {
   "cell_type": "code",
   "execution_count": 13,
   "id": "6df2730c",
   "metadata": {
    "execution": {
     "iopub.execute_input": "2025-04-08T01:00:52.990551Z",
     "iopub.status.busy": "2025-04-08T01:00:52.990005Z",
     "iopub.status.idle": "2025-04-08T01:00:53.215807Z",
     "shell.execute_reply": "2025-04-08T01:00:53.214884Z"
    },
    "papermill": {
     "duration": 18.711381,
     "end_time": "2025-04-08T01:00:53.217292",
     "exception": false,
     "start_time": "2025-04-08T01:00:34.505911",
     "status": "completed"
    },
    "tags": []
   },
   "outputs": [
    {
     "data": {
      "image/png": "[encoded data removed]",
      "text/plain": [
       "<Figure size 1000x800 with 2 Axes>"
      ]
     },
     "metadata": {},
     "output_type": "display_data"
    }
   ],
   "source": [
    "class_names = [f\"Class {i}\" for i in range(len(np.unique(all_true)))]  # Method 3\n",
    "\n",
    "# Create confusion matrix\n",
    "cm = confusion_matrix(all_true, all_preds)\n",
    "plt.figure(figsize=(10, 8))\n",
    "sns.heatmap(cm, annot=True, fmt='d', cmap='Blues', \n",
    "            xticklabels=class_names, yticklabels=class_names)\n",
    "plt.xlabel('Predicted')\n",
    "plt.ylabel('True')\n",
    "plt.title('Confusion Matrix')\n",
    "plt.show()"
   ]
  },
  {
   "cell_type": "code",
   "execution_count": null,
   "id": "4f502ba6",
   "metadata": {
    "papermill": {
     "duration": 18.402538,
     "end_time": "2025-04-08T01:01:30.778204",
     "exception": false,
     "start_time": "2025-04-08T01:01:12.375666",
     "status": "completed"
    },
    "tags": []
   },
   "outputs": [],
   "source": []
  }
 ],
 "metadata": {
  "kaggle": {
   "accelerator": "gpu",
   "dataSources": [],
   "dockerImageVersionId": 30919,
   "isGpuEnabled": true,
   "isInternetEnabled": true,
   "language": "python",
   "sourceType": "notebook"
  },
  "kernelspec": {
   "display_name": "Python 3",
   "language": "python",
   "name": "python3"
  },
  "language_info": {
   "codemirror_mode": {
    "name": "ipython",
    "version": 3
   },
   "file_extension": ".py",
   "mimetype": "text/x-python",
   "name": "python",
   "nbconvert_exporter": "python",
   "pygments_lexer": "ipython3",
   "version": "3.10.12"
  },
  "papermill": {
   "default_parameters": {},
   "duration": 12195.786265,
   "end_time": "2025-04-08T01:01:52.792255",
   "environment_variables": {},
   "exception": null,
   "input_path": "__notebook__.ipynb",
   "output_path": "__notebook__.ipynb",
   "parameters": {},
   "start_time": "2025-04-07T21:38:37.005990",
   "version": "2.6.0"
  }
 },
 "nbformat": 4,
 "nbformat_minor": 5
}
