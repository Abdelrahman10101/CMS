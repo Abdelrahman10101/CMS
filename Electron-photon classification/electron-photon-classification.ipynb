{
 "cells": [
  {
   "cell_type": "code",
   "execution_count": 1,
   "id": "09c3179b",
   "metadata": {
    "_cell_guid": "b1076dfc-b9ad-4769-8c92-a6c4dae69d19",
    "_uuid": "8f2839f25d086af736a60e9eeb907d3b93b6e0e5",
    "execution": {
     "iopub.execute_input": "2025-04-02T17:12:20.571310Z",
     "iopub.status.busy": "2025-04-02T17:12:20.571053Z",
     "iopub.status.idle": "2025-04-02T17:17:34.598718Z",
     "shell.execute_reply": "2025-04-02T17:17:34.597777Z"
    },
    "papermill": {
     "duration": 314.033843,
     "end_time": "2025-04-02T17:17:34.600187",
     "exception": false,
     "start_time": "2025-04-02T17:12:20.566344",
     "status": "completed"
    },
    "tags": []
   },
   "outputs": [
    {
     "name": "stdout",
     "output_type": "stream",
     "text": [
      "--2025-04-02 17:12:20--  https://cernbox.cern.ch/remote.php/dav/public-files/FbXw3V4XNyYB3oA/SingleElectronPt50_IMGCROPS_n249k_RHv1.hdf5\r\n",
      "Resolving cernbox.cern.ch (cernbox.cern.ch)... 128.142.170.17, 128.142.53.35, 137.138.120.151, ...\r\n",
      "Connecting to cernbox.cern.ch (cernbox.cern.ch)|128.142.170.17|:443... connected.\r\n",
      "HTTP request sent, awaiting response... 200 OK\r\n",
      "Length: 128927319 (123M) [application/octet-stream]\r\n",
      "Saving to: ‘electron.hdf5’\r\n",
      "\r\n",
      "electron.hdf5       100%[===================>] 122.95M   240KB/s    in 5m 13s  \r\n",
      "\r\n",
      "2025-04-02 17:17:34 (403 KB/s) - ‘electron.hdf5’ saved [128927319/128927319]\r\n",
      "\r\n"
     ]
    }
   ],
   "source": [
    "! wget https://cernbox.cern.ch/remote.php/dav/public-files/FbXw3V4XNyYB3oA/SingleElectronPt50_IMGCROPS_n249k_RHv1.hdf5  -O electron.hdf5"
   ]
  },
  {
   "cell_type": "code",
   "execution_count": 2,
   "id": "2e94a295",
   "metadata": {
    "execution": {
     "iopub.execute_input": "2025-04-02T17:17:34.745695Z",
     "iopub.status.busy": "2025-04-02T17:17:34.745232Z",
     "iopub.status.idle": "2025-04-02T17:21:17.578729Z",
     "shell.execute_reply": "2025-04-02T17:21:17.577833Z"
    },
    "papermill": {
     "duration": 222.915355,
     "end_time": "2025-04-02T17:21:17.580204",
     "exception": false,
     "start_time": "2025-04-02T17:17:34.664849",
     "status": "completed"
    },
    "tags": []
   },
   "outputs": [
    {
     "name": "stdout",
     "output_type": "stream",
     "text": [
      "--2025-04-02 17:17:34--  https://cernbox.cern.ch/remote.php/dav/public-files/AtBT8y4MiQYFcgc/SinglePhotonPt50_IMGCROPS_n249k_RHv1.hdf5\r\n",
      "Resolving cernbox.cern.ch (cernbox.cern.ch)... 128.142.170.17, 137.138.120.151, 128.142.53.28, ...\r\n",
      "Connecting to cernbox.cern.ch (cernbox.cern.ch)|128.142.170.17|:443... connected.\r\n",
      "HTTP request sent, awaiting response... 200 OK\r\n",
      "Length: 119703858 (114M) [application/octet-stream]\r\n",
      "Saving to: ‘photon.hdf5’\r\n",
      "\r\n",
      "photon.hdf5         100%[===================>] 114.16M  3.55MB/s    in 3m 41s  \r\n",
      "\r\n",
      "2025-04-02 17:21:17 (529 KB/s) - ‘photon.hdf5’ saved [119703858/119703858]\r\n",
      "\r\n"
     ]
    }
   ],
   "source": [
    "! wget https://cernbox.cern.ch/remote.php/dav/public-files/AtBT8y4MiQYFcgc/SinglePhotonPt50_IMGCROPS_n249k_RHv1.hdf5  -O photon.hdf5"
   ]
  },
  {
   "cell_type": "code",
   "execution_count": 3,
   "id": "e9f416ef",
   "metadata": {
    "execution": {
     "iopub.execute_input": "2025-04-02T17:21:17.796126Z",
     "iopub.status.busy": "2025-04-02T17:21:17.795837Z",
     "iopub.status.idle": "2025-04-02T17:21:23.421730Z",
     "shell.execute_reply": "2025-04-02T17:21:23.420993Z"
    },
    "papermill": {
     "duration": 5.735086,
     "end_time": "2025-04-02T17:21:23.423211",
     "exception": false,
     "start_time": "2025-04-02T17:21:17.688125",
     "status": "completed"
    },
    "tags": []
   },
   "outputs": [],
   "source": [
    "import h5py\n",
    "import numpy as np\n",
    "import torch\n",
    "from torch.utils.data import TensorDataset, DataLoader\n",
    "from sklearn.model_selection import train_test_split \n",
    "import torch.nn as nn\n",
    "import torch.nn.functional as F\n",
    "from tqdm import tqdm\n",
    "import torch.optim as optim\n",
    "from sklearn.metrics import accuracy_score, confusion_matrix, roc_auc_score\n",
    "import matplotlib.pyplot as plt\n",
    "import seaborn as sns"
   ]
  },
  {
   "cell_type": "code",
   "execution_count": 4,
   "id": "9ee56d88",
   "metadata": {
    "execution": {
     "iopub.execute_input": "2025-04-02T17:21:23.639193Z",
     "iopub.status.busy": "2025-04-02T17:21:23.638732Z",
     "iopub.status.idle": "2025-04-02T17:21:23.653907Z",
     "shell.execute_reply": "2025-04-02T17:21:23.653078Z"
    },
    "papermill": {
     "duration": 0.125104,
     "end_time": "2025-04-02T17:21:23.655268",
     "exception": false,
     "start_time": "2025-04-02T17:21:23.530164",
     "status": "completed"
    },
    "tags": []
   },
   "outputs": [
    {
     "name": "stdout",
     "output_type": "stream",
     "text": [
      "Keys: ['X', 'y']\n",
      "Features shape: (249000, 32, 32, 2)\n",
      "Target shape: (249000,)\n",
      "Unique elements in target: [0.]\n",
      "Number of unique elements: 1\n"
     ]
    }
   ],
   "source": [
    "# Open the HDF5 file\n",
    "with h5py.File('/kaggle/working/photon.hdf5', 'r') as f:\n",
    "    # List all groups/datasets in the file\n",
    "    print(\"Keys:\", list(f.keys()))\n",
    "\n",
    "    features = f['X']\n",
    "    print(\"Features shape:\", features.shape)\n",
    "\n",
    "    target = f['y']\n",
    "    print(\"Target shape:\", target.shape)\n",
    "    \n",
    "    # Convert the target dataset to a numpy array and get unique values\n",
    "    target_array = np.array(target)\n",
    "    unique_elements = np.unique(target_array)\n",
    "    \n",
    "    print(\"Unique elements in target:\", unique_elements)\n",
    "    print(\"Number of unique elements:\", len(unique_elements))"
   ]
  },
  {
   "cell_type": "code",
   "execution_count": 5,
   "id": "00fdcd49",
   "metadata": {
    "execution": {
     "iopub.execute_input": "2025-04-02T17:21:23.870593Z",
     "iopub.status.busy": "2025-04-02T17:21:23.870236Z",
     "iopub.status.idle": "2025-04-02T17:21:23.879933Z",
     "shell.execute_reply": "2025-04-02T17:21:23.879084Z"
    },
    "papermill": {
     "duration": 0.119533,
     "end_time": "2025-04-02T17:21:23.881298",
     "exception": false,
     "start_time": "2025-04-02T17:21:23.761765",
     "status": "completed"
    },
    "tags": []
   },
   "outputs": [
    {
     "name": "stdout",
     "output_type": "stream",
     "text": [
      "Keys: ['X', 'y']\n",
      "Features shape: (249000, 32, 32, 2)\n",
      "Target shape: (249000,)\n",
      "Unique elements in target: [1.]\n",
      "Number of unique elements: 1\n"
     ]
    }
   ],
   "source": [
    "# Open the HDF5 file\n",
    "with h5py.File('/kaggle/working/electron.hdf5', 'r') as f:\n",
    "    # List all groups/datasets in the file\n",
    "    print(\"Keys:\", list(f.keys()))\n",
    "\n",
    "    features = f['X']\n",
    "    print(\"Features shape:\", features.shape)\n",
    "\n",
    "    target = f['y']\n",
    "    print(\"Target shape:\", target.shape)\n",
    "    \n",
    "    # Convert the target dataset to a numpy array and get unique values\n",
    "    target_array = np.array(target)\n",
    "    unique_elements = np.unique(target_array)\n",
    "    \n",
    "    print(\"Unique elements in target:\", unique_elements)\n",
    "    print(\"Number of unique elements:\", len(unique_elements))"
   ]
  },
  {
   "cell_type": "code",
   "execution_count": 6,
   "id": "34e2d7a7",
   "metadata": {
    "execution": {
     "iopub.execute_input": "2025-04-02T17:21:24.101340Z",
     "iopub.status.busy": "2025-04-02T17:21:24.101043Z",
     "iopub.status.idle": "2025-04-02T17:21:30.607280Z",
     "shell.execute_reply": "2025-04-02T17:21:30.606380Z"
    },
    "papermill": {
     "duration": 6.61771,
     "end_time": "2025-04-02T17:21:30.608713",
     "exception": false,
     "start_time": "2025-04-02T17:21:23.991003",
     "status": "completed"
    },
    "tags": []
   },
   "outputs": [
    {
     "data": {
      "image/png": "[encoded data removed]",
      "text/plain": [
       "<Figure size 1000x500 with 4 Axes>"
      ]
     },
     "metadata": {},
     "output_type": "display_data"
    }
   ],
   "source": [
    "# Open the HDF5 file\n",
    "with h5py.File('/kaggle/working/electron.hdf5', 'r') as f:\n",
    "    # Assuming the dataset is called 'images' - adjust if needed\n",
    "    electron = f['X'][:]  # Load all data into memory\n",
    "    \n",
    "# Select a random sample\n",
    "sample_idx = np.random.randint(0, len(electron))\n",
    "sample = electron[sample_idx]\n",
    "\n",
    "# Create figure\n",
    "fig, (ax1, ax2) = plt.subplots(1, 2, figsize=(10, 5))\n",
    "\n",
    "# Plot energy channel (channel 0)\n",
    "im1 = ax1.imshow(sample[..., 0], cmap='viridis', vmin=0)\n",
    "ax1.set_title('Energy Deposit')\n",
    "plt.colorbar(im1, ax=ax1, fraction=0.046, pad=0.04)\n",
    "\n",
    "# Plot time channel (channel 1)\n",
    "im2 = ax2.imshow(sample[..., 1], cmap='plasma')\n",
    "ax2.set_title('Hit Time')\n",
    "plt.colorbar(im2, ax=ax2, fraction=0.046, pad=0.04)\n",
    "\n",
    "plt.suptitle(f'Electron Event Display (Sample #{sample_idx})')\n",
    "plt.tight_layout()\n",
    "plt.show()"
   ]
  },
  {
   "cell_type": "code",
   "execution_count": 7,
   "id": "34b00c5f",
   "metadata": {
    "execution": {
     "iopub.execute_input": "2025-04-02T17:21:30.872630Z",
     "iopub.status.busy": "2025-04-02T17:21:30.872232Z",
     "iopub.status.idle": "2025-04-02T17:21:31.114847Z",
     "shell.execute_reply": "2025-04-02T17:21:31.114021Z"
    },
    "papermill": {
     "duration": 0.400163,
     "end_time": "2025-04-02T17:21:31.116136",
     "exception": false,
     "start_time": "2025-04-02T17:21:30.715973",
     "status": "completed"
    },
    "tags": []
   },
   "outputs": [
    {
     "data": {
      "image/png": "[encoded data removed]",
      "text/plain": [
       "<Figure size 600x600 with 2 Axes>"
      ]
     },
     "metadata": {},
     "output_type": "display_data"
    }
   ],
   "source": [
    "# Create an RGB image combining both channels\n",
    "rgb_image = np.zeros((32, 32, 3))\n",
    "\n",
    "# Normalize channels\n",
    "energy_norm = sample[..., 0] / np.max(sample[..., 0])\n",
    "time_norm = sample[..., 1] / np.max(sample[..., 1])\n",
    "\n",
    "# Energy in green channel, time in red channel\n",
    "rgb_image[..., 1] = energy_norm  # Green = energy\n",
    "rgb_image[..., 0] = time_norm    # Red = time\n",
    "\n",
    "plt.figure(figsize=(6, 6))\n",
    "plt.imshow(rgb_image)\n",
    "plt.title('Energy (Green) + Time (Red) Overlay')\n",
    "plt.colorbar(label='Normalized Value')\n",
    "plt.show()"
   ]
  },
  {
   "cell_type": "code",
   "execution_count": 8,
   "id": "3a753b1a",
   "metadata": {
    "execution": {
     "iopub.execute_input": "2025-04-02T17:21:31.348113Z",
     "iopub.status.busy": "2025-04-02T17:21:31.347822Z",
     "iopub.status.idle": "2025-04-02T17:21:37.706648Z",
     "shell.execute_reply": "2025-04-02T17:21:37.705825Z"
    },
    "papermill": {
     "duration": 6.479416,
     "end_time": "2025-04-02T17:21:37.707981",
     "exception": false,
     "start_time": "2025-04-02T17:21:31.228565",
     "status": "completed"
    },
    "tags": []
   },
   "outputs": [
    {
     "data": {
      "image/png": "[encoded data removed]",
      "text/plain": [
       "<Figure size 1000x500 with 4 Axes>"
      ]
     },
     "metadata": {},
     "output_type": "display_data"
    }
   ],
   "source": [
    "# Open the HDF5 file\n",
    "with h5py.File('/kaggle/working/photon.hdf5', 'r') as f:\n",
    "    # Assuming the dataset is called 'images' - adjust if needed\n",
    "    photon = f['X'][:]  # Load all data into memory\n",
    "    \n",
    "# Select a random sample\n",
    "sample_idx = np.random.randint(0, len(photon))\n",
    "sample = photon[sample_idx]\n",
    "\n",
    "# Create figure\n",
    "fig, (ax1, ax2) = plt.subplots(1, 2, figsize=(10, 5))\n",
    "\n",
    "# Plot energy channel (channel 0)\n",
    "im1 = ax1.imshow(sample[..., 0], cmap='viridis', vmin=0)\n",
    "ax1.set_title('Energy Deposit')\n",
    "plt.colorbar(im1, ax=ax1, fraction=0.046, pad=0.04)\n",
    "\n",
    "# Plot time channel (channel 1)\n",
    "im2 = ax2.imshow(sample[..., 1], cmap='plasma')\n",
    "ax2.set_title('Hit Time')\n",
    "plt.colorbar(im2, ax=ax2, fraction=0.046, pad=0.04)\n",
    "\n",
    "plt.suptitle(f'Electron Event Display (Sample #{sample_idx})')\n",
    "plt.tight_layout()\n",
    "plt.show()"
   ]
  },
  {
   "cell_type": "code",
   "execution_count": 9,
   "id": "60fad069",
   "metadata": {
    "execution": {
     "iopub.execute_input": "2025-04-02T17:21:37.926933Z",
     "iopub.status.busy": "2025-04-02T17:21:37.926556Z",
     "iopub.status.idle": "2025-04-02T17:21:38.161829Z",
     "shell.execute_reply": "2025-04-02T17:21:38.160979Z"
    },
    "papermill": {
     "duration": 0.346385,
     "end_time": "2025-04-02T17:21:38.163203",
     "exception": false,
     "start_time": "2025-04-02T17:21:37.816818",
     "status": "completed"
    },
    "tags": []
   },
   "outputs": [
    {
     "data": {
      "image/png": "[encoded data removed]",
      "text/plain": [
       "<Figure size 600x600 with 2 Axes>"
      ]
     },
     "metadata": {},
     "output_type": "display_data"
    }
   ],
   "source": [
    "# Create an RGB image combining both channels\n",
    "rgb_image = np.zeros((32, 32, 3))\n",
    "\n",
    "# Normalize channels\n",
    "energy_norm = sample[..., 0] / np.max(sample[..., 0])\n",
    "time_norm = sample[..., 1] / np.max(sample[..., 1])\n",
    "\n",
    "# Energy in green channel, time in red channel\n",
    "rgb_image[..., 1] = energy_norm  # Green = energy\n",
    "rgb_image[..., 0] = time_norm    # Red = time\n",
    "\n",
    "plt.figure(figsize=(6, 6))\n",
    "plt.imshow(rgb_image)\n",
    "plt.title('Energy (Green) + Time (Red) Overlay')\n",
    "plt.colorbar(label='Normalized Value')\n",
    "plt.show()"
   ]
  },
  {
   "cell_type": "code",
   "execution_count": 10,
   "id": "0bdf65ee",
   "metadata": {
    "execution": {
     "iopub.execute_input": "2025-04-02T17:21:38.388088Z",
     "iopub.status.busy": "2025-04-02T17:21:38.387762Z",
     "iopub.status.idle": "2025-04-02T17:21:53.191564Z",
     "shell.execute_reply": "2025-04-02T17:21:53.190785Z"
    },
    "papermill": {
     "duration": 14.91985,
     "end_time": "2025-04-02T17:21:53.193231",
     "exception": false,
     "start_time": "2025-04-02T17:21:38.273381",
     "status": "completed"
    },
    "tags": []
   },
   "outputs": [],
   "source": [
    "def load_and_split(file_path, label, test_size=0.2, random_state=42):\n",
    "    \"\"\"Load data and split into train/test by label.\"\"\"\n",
    "    with h5py.File(file_path, 'r') as f:\n",
    "        X = f['X'][:]  # Shape: (N, 32, 32, 2)\n",
    "        y = np.full(len(X), label)  # Assign label (0 for electron, 1 for photon)\n",
    "    \n",
    "    # Split into train/test\n",
    "    X_train, X_test, y_train, y_test = train_test_split(\n",
    "        X, y, test_size=test_size, random_state=random_state\n",
    "    )\n",
    "    return X_train, X_test, y_train, y_test\n",
    "\n",
    "# Load and split electron (label=0) and photon (label=1)\n",
    "X_e_train, X_e_test, y_e_train, y_e_test = load_and_split('/kaggle/working/electron.hdf5', label=0)\n",
    "X_p_train, X_p_test, y_p_train, y_p_test = load_and_split('/kaggle/working/photon.hdf5', label=1)\n",
    "\n",
    "# Concatenate splits (your requested approach)\n",
    "X_train = np.concatenate([X_e_train, X_p_train])\n",
    "X_test = np.concatenate([X_e_test, X_p_test])\n",
    "y_train = np.concatenate([y_e_train, y_p_train])\n",
    "y_test = np.concatenate([y_e_test, y_p_test])\n",
    "\n",
    "# Convert to PyTorch tensors and permute dimensions (NCHW)\n",
    "X_train = torch.FloatTensor(X_train).permute(0, 3, 1, 2)  # (N, 2, 32, 32)\n",
    "X_test = torch.FloatTensor(X_test).permute(0, 3, 1, 2)\n",
    "y_train = torch.LongTensor(y_train)\n",
    "y_test = torch.LongTensor(y_test)\n",
    "\n",
    "# Create DataLoaders\n",
    "train_dataset = TensorDataset(X_train, y_train)\n",
    "test_dataset = TensorDataset(X_test, y_test)\n",
    "train_loader = DataLoader(train_dataset, batch_size=64, shuffle=True)\n",
    "test_loader = DataLoader(test_dataset, batch_size=64)"
   ]
  },
  {
   "cell_type": "code",
   "execution_count": 11,
   "id": "4863980f",
   "metadata": {
    "execution": {
     "iopub.execute_input": "2025-04-02T17:21:53.413895Z",
     "iopub.status.busy": "2025-04-02T17:21:53.413606Z",
     "iopub.status.idle": "2025-04-02T17:21:53.423043Z",
     "shell.execute_reply": "2025-04-02T17:21:53.422369Z"
    },
    "papermill": {
     "duration": 0.121561,
     "end_time": "2025-04-02T17:21:53.424279",
     "exception": false,
     "start_time": "2025-04-02T17:21:53.302718",
     "status": "completed"
    },
    "tags": []
   },
   "outputs": [],
   "source": [
    "class ResidualBlock(nn.Module):\n",
    "    def __init__(self, in_channels, out_channels, stride=1):\n",
    "        super().__init__()\n",
    "        self.conv1 = nn.Conv2d(in_channels, out_channels, kernel_size=3, stride=stride, padding=1, bias=False)\n",
    "        self.bn1 = nn.BatchNorm2d(out_channels)\n",
    "        self.conv2 = nn.Conv2d(out_channels, out_channels, kernel_size=3, stride=1, padding=1, bias=False)\n",
    "        self.bn2 = nn.BatchNorm2d(out_channels)\n",
    "        \n",
    "        self.shortcut = nn.Sequential()\n",
    "        if stride != 1 or in_channels != out_channels:\n",
    "            self.shortcut = nn.Sequential(\n",
    "                nn.Conv2d(in_channels, out_channels, kernel_size=1, stride=stride, bias=False),\n",
    "                nn.BatchNorm2d(out_channels)\n",
    "            )\n",
    "\n",
    "    def forward(self, x):\n",
    "        out = F.relu(self.bn1(self.conv1(x)))\n",
    "        out = self.bn2(self.conv2(out))\n",
    "        out += self.shortcut(x)\n",
    "        return F.relu(out)\n",
    "\n",
    "class ResNet15(nn.Module):\n",
    "    def __init__(self, num_classes=2):\n",
    "        super().__init__()\n",
    "        self.in_channels = 64\n",
    "        self.conv1 = nn.Conv2d(2, 64, kernel_size=3, stride=1, padding=1, bias=False)\n",
    "        self.bn1 = nn.BatchNorm2d(64)\n",
    "        \n",
    "        # ResNet blocks: [64, 128, 256, 512] channels\n",
    "        self.layer1 = self._make_layer(64, 2, stride=1)\n",
    "        self.layer2 = self._make_layer(128, 2, stride=2)\n",
    "        self.layer3 = self._make_layer(256, 2, stride=2)\n",
    "        self.layer4 = self._make_layer(512, 2, stride=2)\n",
    "        \n",
    "        self.avgpool = nn.AdaptiveAvgPool2d((1, 1))\n",
    "        self.fc = nn.Linear(512, num_classes)\n",
    "\n",
    "    def _make_layer(self, out_channels, blocks, stride):\n",
    "        layers = []\n",
    "        layers.append(ResidualBlock(self.in_channels, out_channels, stride))\n",
    "        self.in_channels = out_channels\n",
    "        for _ in range(1, blocks):\n",
    "            layers.append(ResidualBlock(out_channels, out_channels, stride=1))\n",
    "        return nn.Sequential(*layers)\n",
    "\n",
    "    def forward(self, x):\n",
    "        x = F.relu(self.bn1(self.conv1(x)))\n",
    "        x = self.layer1(x)\n",
    "        x = self.layer2(x)\n",
    "        x = self.layer3(x)\n",
    "        x = self.layer4(x)\n",
    "        x = self.avgpool(x)\n",
    "        x = x.view(x.size(0), -1)\n",
    "        x = self.fc(x)\n",
    "        return x"
   ]
  },
  {
   "cell_type": "code",
   "execution_count": 12,
   "id": "48b6bdca",
   "metadata": {
    "execution": {
     "iopub.execute_input": "2025-04-02T17:21:53.644965Z",
     "iopub.status.busy": "2025-04-02T17:21:53.644670Z",
     "iopub.status.idle": "2025-04-02T20:56:23.371651Z",
     "shell.execute_reply": "2025-04-02T20:56:23.370791Z"
    },
    "papermill": {
     "duration": 12869.838467,
     "end_time": "2025-04-02T20:56:23.373006",
     "exception": false,
     "start_time": "2025-04-02T17:21:53.534539",
     "status": "completed"
    },
    "tags": []
   },
   "outputs": [
    {
     "name": "stderr",
     "output_type": "stream",
     "text": [
      "/usr/local/lib/python3.10/dist-packages/torch/optim/lr_scheduler.py:62: UserWarning: The verbose parameter is deprecated. Please use get_last_lr() to access the learning rate.\n",
      "  warnings.warn(\n",
      "                                                                          \r"
     ]
    },
    {
     "name": "stdout",
     "output_type": "stream",
     "text": [
      "Epoch 1: Train Acc = 0.6688, Train AUC = 0.7216, Val Acc = 0.7043, Val AUC = 0.7640, LR = 0.001000\n"
     ]
    },
    {
     "name": "stderr",
     "output_type": "stream",
     "text": [
      "                                                                           \r"
     ]
    },
    {
     "name": "stdout",
     "output_type": "stream",
     "text": [
      "Epoch 2: Train Acc = 0.7105, Train AUC = 0.7711, Val Acc = 0.7156, Val AUC = 0.7774, LR = 0.001000\n"
     ]
    },
    {
     "name": "stderr",
     "output_type": "stream",
     "text": [
      "                                                                           \r"
     ]
    },
    {
     "name": "stdout",
     "output_type": "stream",
     "text": [
      "Epoch 3: Train Acc = 0.7172, Train AUC = 0.7796, Val Acc = 0.7149, Val AUC = 0.7821, LR = 0.001000\n"
     ]
    },
    {
     "name": "stderr",
     "output_type": "stream",
     "text": [
      "                                                                           \r"
     ]
    },
    {
     "name": "stdout",
     "output_type": "stream",
     "text": [
      "Epoch 4: Train Acc = 0.7193, Train AUC = 0.7840, Val Acc = 0.7065, Val AUC = 0.7831, LR = 0.001000\n"
     ]
    },
    {
     "name": "stderr",
     "output_type": "stream",
     "text": [
      "                                                                          \r"
     ]
    },
    {
     "name": "stdout",
     "output_type": "stream",
     "text": [
      "Epoch 5: Train Acc = 0.7211, Train AUC = 0.7867, Val Acc = 0.7229, Val AUC = 0.7918, LR = 0.001000\n"
     ]
    },
    {
     "name": "stderr",
     "output_type": "stream",
     "text": [
      "                                                                           \r"
     ]
    },
    {
     "name": "stdout",
     "output_type": "stream",
     "text": [
      "Epoch 6: Train Acc = 0.7231, Train AUC = 0.7884, Val Acc = 0.7245, Val AUC = 0.7927, LR = 0.001000\n"
     ]
    },
    {
     "name": "stderr",
     "output_type": "stream",
     "text": [
      "                                                                           \r"
     ]
    },
    {
     "name": "stdout",
     "output_type": "stream",
     "text": [
      "Epoch 7: Train Acc = 0.7240, Train AUC = 0.7898, Val Acc = 0.7218, Val AUC = 0.7941, LR = 0.001000\n"
     ]
    },
    {
     "name": "stderr",
     "output_type": "stream",
     "text": [
      "                                                                           \r"
     ]
    },
    {
     "name": "stdout",
     "output_type": "stream",
     "text": [
      "Epoch 8: Train Acc = 0.7244, Train AUC = 0.7909, Val Acc = 0.7209, Val AUC = 0.7905, LR = 0.001000\n"
     ]
    },
    {
     "name": "stderr",
     "output_type": "stream",
     "text": [
      "                                                                           \r"
     ]
    },
    {
     "name": "stdout",
     "output_type": "stream",
     "text": [
      "Epoch 9: Train Acc = 0.7252, Train AUC = 0.7919, Val Acc = 0.7262, Val AUC = 0.7956, LR = 0.001000\n"
     ]
    },
    {
     "name": "stderr",
     "output_type": "stream",
     "text": [
      "                                                                            \r"
     ]
    },
    {
     "name": "stdout",
     "output_type": "stream",
     "text": [
      "Epoch 10: Train Acc = 0.7262, Train AUC = 0.7928, Val Acc = 0.7254, Val AUC = 0.7966, LR = 0.001000\n"
     ]
    },
    {
     "name": "stderr",
     "output_type": "stream",
     "text": [
      "                                                                            \r"
     ]
    },
    {
     "name": "stdout",
     "output_type": "stream",
     "text": [
      "Epoch 11: Train Acc = 0.7262, Train AUC = 0.7937, Val Acc = 0.7295, Val AUC = 0.7986, LR = 0.001000\n"
     ]
    },
    {
     "name": "stderr",
     "output_type": "stream",
     "text": [
      "                                                                            \r"
     ]
    },
    {
     "name": "stdout",
     "output_type": "stream",
     "text": [
      "Epoch 12: Train Acc = 0.7275, Train AUC = 0.7944, Val Acc = 0.7255, Val AUC = 0.7942, LR = 0.001000\n"
     ]
    },
    {
     "name": "stderr",
     "output_type": "stream",
     "text": [
      "                                                                            \r"
     ]
    },
    {
     "name": "stdout",
     "output_type": "stream",
     "text": [
      "Epoch 13: Train Acc = 0.7276, Train AUC = 0.7948, Val Acc = 0.7200, Val AUC = 0.7895, LR = 0.001000\n"
     ]
    },
    {
     "name": "stderr",
     "output_type": "stream",
     "text": [
      "                                                                            \r"
     ]
    },
    {
     "name": "stdout",
     "output_type": "stream",
     "text": [
      "Epoch 14: Train Acc = 0.7279, Train AUC = 0.7952, Val Acc = 0.7275, Val AUC = 0.7974, LR = 0.001000\n"
     ]
    },
    {
     "name": "stderr",
     "output_type": "stream",
     "text": [
      "                                                                            \r"
     ]
    },
    {
     "name": "stdout",
     "output_type": "stream",
     "text": [
      "Epoch 15: Train Acc = 0.7282, Train AUC = 0.7958, Val Acc = 0.7234, Val AUC = 0.7944, LR = 0.001000\n"
     ]
    },
    {
     "name": "stderr",
     "output_type": "stream",
     "text": [
      "                                                                            \r"
     ]
    },
    {
     "name": "stdout",
     "output_type": "stream",
     "text": [
      "Epoch 16: Train Acc = 0.7331, Train AUC = 0.8012, Val Acc = 0.7325, Val AUC = 0.8027, LR = 0.000500\n"
     ]
    },
    {
     "name": "stderr",
     "output_type": "stream",
     "text": [
      "                                                                            \r"
     ]
    },
    {
     "name": "stdout",
     "output_type": "stream",
     "text": [
      "Epoch 17: Train Acc = 0.7339, Train AUC = 0.8022, Val Acc = 0.7283, Val AUC = 0.8003, LR = 0.000500\n"
     ]
    },
    {
     "name": "stderr",
     "output_type": "stream",
     "text": [
      "                                                                            \r"
     ]
    },
    {
     "name": "stdout",
     "output_type": "stream",
     "text": [
      "Epoch 18: Train Acc = 0.7341, Train AUC = 0.8029, Val Acc = 0.7303, Val AUC = 0.8016, LR = 0.000500\n"
     ]
    },
    {
     "name": "stderr",
     "output_type": "stream",
     "text": [
      "                                                                            \r"
     ]
    },
    {
     "name": "stdout",
     "output_type": "stream",
     "text": [
      "Epoch 19: Train Acc = 0.7352, Train AUC = 0.8035, Val Acc = 0.7323, Val AUC = 0.8032, LR = 0.000500\n"
     ]
    },
    {
     "name": "stderr",
     "output_type": "stream",
     "text": [
      "                                                                            \r"
     ]
    },
    {
     "name": "stdout",
     "output_type": "stream",
     "text": [
      "Epoch 20: Train Acc = 0.7348, Train AUC = 0.8036, Val Acc = 0.7328, Val AUC = 0.8034, LR = 0.000500\n"
     ]
    },
    {
     "name": "stderr",
     "output_type": "stream",
     "text": [
      "                                                                            \r"
     ]
    },
    {
     "name": "stdout",
     "output_type": "stream",
     "text": [
      "Epoch 21: Train Acc = 0.7348, Train AUC = 0.8039, Val Acc = 0.7255, Val AUC = 0.7967, LR = 0.000500\n"
     ]
    },
    {
     "name": "stderr",
     "output_type": "stream",
     "text": [
      "                                                                            \r"
     ]
    },
    {
     "name": "stdout",
     "output_type": "stream",
     "text": [
      "Epoch 22: Train Acc = 0.7349, Train AUC = 0.8041, Val Acc = 0.7302, Val AUC = 0.8014, LR = 0.000500\n"
     ]
    },
    {
     "name": "stderr",
     "output_type": "stream",
     "text": [
      "                                                                          \r"
     ]
    },
    {
     "name": "stdout",
     "output_type": "stream",
     "text": [
      "Epoch 23: Train Acc = 0.7349, Train AUC = 0.8043, Val Acc = 0.7307, Val AUC = 0.8017, LR = 0.000500\n"
     ]
    },
    {
     "name": "stderr",
     "output_type": "stream",
     "text": [
      "                                                                            \r"
     ]
    },
    {
     "name": "stdout",
     "output_type": "stream",
     "text": [
      "Epoch 24: Train Acc = 0.7354, Train AUC = 0.8048, Val Acc = 0.7332, Val AUC = 0.8034, LR = 0.000500\n"
     ]
    },
    {
     "name": "stderr",
     "output_type": "stream",
     "text": [
      "                                                                            \r"
     ]
    },
    {
     "name": "stdout",
     "output_type": "stream",
     "text": [
      "Epoch 25: Train Acc = 0.7382, Train AUC = 0.8085, Val Acc = 0.7350, Val AUC = 0.8060, LR = 0.000250\n"
     ]
    },
    {
     "name": "stderr",
     "output_type": "stream",
     "text": [
      "                                                                            \r"
     ]
    },
    {
     "name": "stdout",
     "output_type": "stream",
     "text": [
      "Epoch 26: Train Acc = 0.7385, Train AUC = 0.8094, Val Acc = 0.7351, Val AUC = 0.8050, LR = 0.000250\n"
     ]
    },
    {
     "name": "stderr",
     "output_type": "stream",
     "text": [
      "                                                                            \r"
     ]
    },
    {
     "name": "stdout",
     "output_type": "stream",
     "text": [
      "Epoch 27: Train Acc = 0.7394, Train AUC = 0.8097, Val Acc = 0.7340, Val AUC = 0.8061, LR = 0.000250\n"
     ]
    },
    {
     "name": "stderr",
     "output_type": "stream",
     "text": [
      "                                                                            \r"
     ]
    },
    {
     "name": "stdout",
     "output_type": "stream",
     "text": [
      "Epoch 28: Train Acc = 0.7396, Train AUC = 0.8101, Val Acc = 0.7349, Val AUC = 0.8069, LR = 0.000250\n"
     ]
    },
    {
     "name": "stderr",
     "output_type": "stream",
     "text": [
      "                                                                            \r"
     ]
    },
    {
     "name": "stdout",
     "output_type": "stream",
     "text": [
      "Epoch 29: Train Acc = 0.7393, Train AUC = 0.8102, Val Acc = 0.7358, Val AUC = 0.8074, LR = 0.000250\n"
     ]
    },
    {
     "name": "stderr",
     "output_type": "stream",
     "text": [
      "                                                                            \r"
     ]
    },
    {
     "name": "stdout",
     "output_type": "stream",
     "text": [
      "Epoch 30: Train Acc = 0.7395, Train AUC = 0.8105, Val Acc = 0.7347, Val AUC = 0.8071, LR = 0.000250\n"
     ]
    },
    {
     "name": "stderr",
     "output_type": "stream",
     "text": [
      "                                                                            \r"
     ]
    },
    {
     "name": "stdout",
     "output_type": "stream",
     "text": [
      "Epoch 31: Train Acc = 0.7404, Train AUC = 0.8108, Val Acc = 0.7363, Val AUC = 0.8074, LR = 0.000250\n"
     ]
    },
    {
     "name": "stderr",
     "output_type": "stream",
     "text": [
      "                                                                            \r"
     ]
    },
    {
     "name": "stdout",
     "output_type": "stream",
     "text": [
      "Epoch 32: Train Acc = 0.7401, Train AUC = 0.8110, Val Acc = 0.7343, Val AUC = 0.8070, LR = 0.000250\n"
     ]
    },
    {
     "name": "stderr",
     "output_type": "stream",
     "text": [
      "                                                                            \r"
     ]
    },
    {
     "name": "stdout",
     "output_type": "stream",
     "text": [
      "Epoch 33: Train Acc = 0.7399, Train AUC = 0.8112, Val Acc = 0.7347, Val AUC = 0.8056, LR = 0.000250\n"
     ]
    },
    {
     "name": "stderr",
     "output_type": "stream",
     "text": [
      "                                                                            \r"
     ]
    },
    {
     "name": "stdout",
     "output_type": "stream",
     "text": [
      "Epoch 34: Train Acc = 0.7424, Train AUC = 0.8135, Val Acc = 0.7365, Val AUC = 0.8083, LR = 0.000125\n"
     ]
    },
    {
     "name": "stderr",
     "output_type": "stream",
     "text": [
      "                                                                            \r"
     ]
    },
    {
     "name": "stdout",
     "output_type": "stream",
     "text": [
      "Epoch 35: Train Acc = 0.7429, Train AUC = 0.8143, Val Acc = 0.7370, Val AUC = 0.8087, LR = 0.000125\n"
     ]
    },
    {
     "name": "stderr",
     "output_type": "stream",
     "text": [
      "                                                                            \r"
     ]
    },
    {
     "name": "stdout",
     "output_type": "stream",
     "text": [
      "Epoch 36: Train Acc = 0.7436, Train AUC = 0.8144, Val Acc = 0.7376, Val AUC = 0.8085, LR = 0.000125\n"
     ]
    },
    {
     "name": "stderr",
     "output_type": "stream",
     "text": [
      "                                                                            \r"
     ]
    },
    {
     "name": "stdout",
     "output_type": "stream",
     "text": [
      "Epoch 37: Train Acc = 0.7428, Train AUC = 0.8148, Val Acc = 0.7371, Val AUC = 0.8086, LR = 0.000125\n"
     ]
    },
    {
     "name": "stderr",
     "output_type": "stream",
     "text": [
      "                                                                            \r"
     ]
    },
    {
     "name": "stdout",
     "output_type": "stream",
     "text": [
      "Epoch 38: Train Acc = 0.7435, Train AUC = 0.8150, Val Acc = 0.7372, Val AUC = 0.8086, LR = 0.000125\n"
     ]
    },
    {
     "name": "stderr",
     "output_type": "stream",
     "text": [
      "                                                                            \r"
     ]
    },
    {
     "name": "stdout",
     "output_type": "stream",
     "text": [
      "Epoch 39: Train Acc = 0.7432, Train AUC = 0.8152, Val Acc = 0.7364, Val AUC = 0.8090, LR = 0.000125\n"
     ]
    },
    {
     "name": "stderr",
     "output_type": "stream",
     "text": [
      "                                                                            \r"
     ]
    },
    {
     "name": "stdout",
     "output_type": "stream",
     "text": [
      "Epoch 40: Train Acc = 0.7437, Train AUC = 0.8154, Val Acc = 0.7377, Val AUC = 0.8090, LR = 0.000125\n"
     ]
    },
    {
     "name": "stderr",
     "output_type": "stream",
     "text": [
      "                                                                            \r"
     ]
    },
    {
     "name": "stdout",
     "output_type": "stream",
     "text": [
      "Epoch 41: Train Acc = 0.7439, Train AUC = 0.8157, Val Acc = 0.7373, Val AUC = 0.8082, LR = 0.000125\n"
     ]
    },
    {
     "name": "stderr",
     "output_type": "stream",
     "text": [
      "                                                                            \r"
     ]
    },
    {
     "name": "stdout",
     "output_type": "stream",
     "text": [
      "Epoch 42: Train Acc = 0.7438, Train AUC = 0.8158, Val Acc = 0.7361, Val AUC = 0.8078, LR = 0.000125\n"
     ]
    },
    {
     "name": "stderr",
     "output_type": "stream",
     "text": [
      "                                                                            \r"
     ]
    },
    {
     "name": "stdout",
     "output_type": "stream",
     "text": [
      "Epoch 43: Train Acc = 0.7439, Train AUC = 0.8159, Val Acc = 0.7376, Val AUC = 0.8087, LR = 0.000125\n"
     ]
    },
    {
     "name": "stderr",
     "output_type": "stream",
     "text": [
      "                                                                            \r"
     ]
    },
    {
     "name": "stdout",
     "output_type": "stream",
     "text": [
      "Epoch 44: Train Acc = 0.7453, Train AUC = 0.8176, Val Acc = 0.7378, Val AUC = 0.8092, LR = 0.000063\n"
     ]
    },
    {
     "name": "stderr",
     "output_type": "stream",
     "text": [
      "                                                                            \r"
     ]
    },
    {
     "name": "stdout",
     "output_type": "stream",
     "text": [
      "Epoch 45: Train Acc = 0.7456, Train AUC = 0.8179, Val Acc = 0.7375, Val AUC = 0.8091, LR = 0.000063\n"
     ]
    },
    {
     "name": "stderr",
     "output_type": "stream",
     "text": [
      "                                                                            \r"
     ]
    },
    {
     "name": "stdout",
     "output_type": "stream",
     "text": [
      "Epoch 46: Train Acc = 0.7462, Train AUC = 0.8181, Val Acc = 0.7378, Val AUC = 0.8089, LR = 0.000063\n"
     ]
    },
    {
     "name": "stderr",
     "output_type": "stream",
     "text": [
      "                                                                            \r"
     ]
    },
    {
     "name": "stdout",
     "output_type": "stream",
     "text": [
      "Epoch 47: Train Acc = 0.7459, Train AUC = 0.8183, Val Acc = 0.7374, Val AUC = 0.8083, LR = 0.000063\n"
     ]
    },
    {
     "name": "stderr",
     "output_type": "stream",
     "text": [
      "                                                                            \r"
     ]
    },
    {
     "name": "stdout",
     "output_type": "stream",
     "text": [
      "Epoch 48: Train Acc = 0.7456, Train AUC = 0.8184, Val Acc = 0.7381, Val AUC = 0.8091, LR = 0.000063\n"
     ]
    },
    {
     "name": "stderr",
     "output_type": "stream",
     "text": [
      "                                                                            \r"
     ]
    },
    {
     "name": "stdout",
     "output_type": "stream",
     "text": [
      "Epoch 49: Train Acc = 0.7469, Train AUC = 0.8195, Val Acc = 0.7385, Val AUC = 0.8093, LR = 0.000031\n"
     ]
    },
    {
     "name": "stderr",
     "output_type": "stream",
     "text": [
      "                                                                            \r"
     ]
    },
    {
     "name": "stdout",
     "output_type": "stream",
     "text": [
      "Epoch 50: Train Acc = 0.7473, Train AUC = 0.8199, Val Acc = 0.7387, Val AUC = 0.8094, LR = 0.000031\n",
      "Best Validation Accuracy: 0.7387, Best AUC: 0.8094\n"
     ]
    },
    {
     "name": "stderr",
     "output_type": "stream",
     "text": [
      "<ipython-input-12-bd3e16f515e0>:82: FutureWarning: You are using `torch.load` with `weights_only=False` (the current default value), which uses the default pickle module implicitly. It is possible to construct malicious pickle data which will execute arbitrary code during unpickling (See https://github.com/pytorch/pytorch/blob/main/SECURITY.md#untrusted-models for more details). In a future release, the default value for `weights_only` will be flipped to `True`. This limits the functions that could be executed during unpickling. Arbitrary objects will no longer be allowed to be loaded via this mode unless they are explicitly allowlisted by the user via `torch.serialization.add_safe_globals`. We recommend you start setting `weights_only=True` for any use case where you don't have full control of the loaded file. Please open an issue on GitHub for any issues related to this experimental feature.\n",
      "  model.load_state_dict(torch.load('best_model.pth'))\n"
     ]
    },
    {
     "name": "stdout",
     "output_type": "stream",
     "text": [
      "Final Test AUC: 0.8094\n"
     ]
    }
   ],
   "source": [
    "device = torch.device('cuda' if torch.cuda.is_available() else 'cpu')\n",
    "model = ResNet15().to(device)\n",
    "criterion = nn.CrossEntropyLoss()\n",
    "optimizer = optim.Adam(model.parameters(), lr=0.001, weight_decay=1e-4)\n",
    "scheduler = optim.lr_scheduler.ReduceLROnPlateau(optimizer, mode='max', patience=3, factor=0.5, verbose=True)\n",
    "\n",
    "# Early stopping\n",
    "best_acc = 0.0\n",
    "patience = 5\n",
    "epochs_no_improve = 0\n",
    "early_stop = False\n",
    "\n",
    "for epoch in range(50):\n",
    "    model.train()\n",
    "    train_loss = 0.0\n",
    "    train_preds, train_true = [], []\n",
    "    train_probs = []  # Store probabilities for AUC calculation\n",
    "    \n",
    "    progress_bar = tqdm(train_loader, desc=f'Epoch {epoch+1}/50', leave=False)\n",
    "    \n",
    "    for inputs, labels in progress_bar:\n",
    "        inputs, labels = inputs.to(device), labels.to(device)\n",
    "        optimizer.zero_grad()\n",
    "        outputs = model(inputs)\n",
    "        loss = criterion(outputs, labels)\n",
    "        loss.backward()\n",
    "        optimizer.step()\n",
    "        \n",
    "        train_loss += loss.item()\n",
    "        # Get probabilities (softmax) for AUC calculation\n",
    "        prob = torch.softmax(outputs, dim=1)\n",
    "        train_probs.extend(prob[:, 1].cpu().detach().numpy())  # Assuming binary classification\n",
    "        train_preds.extend(outputs.argmax(dim=1).cpu().numpy())\n",
    "        train_true.extend(labels.cpu().numpy())\n",
    "        \n",
    "        progress_bar.set_postfix(loss=loss.item())\n",
    "    \n",
    "    # Calculate training accuracy and AUC\n",
    "    train_acc = accuracy_score(train_true, train_preds)\n",
    "    train_auc = roc_auc_score(train_true, train_probs)\n",
    "    \n",
    "    # Validation\n",
    "    model.eval()\n",
    "    val_preds, val_true = [], []\n",
    "    val_probs = []  # Store probabilities for AUC calculation\n",
    "    with torch.no_grad():\n",
    "        for inputs, labels in test_loader:\n",
    "            inputs, labels = inputs.to(device), labels.to(device)\n",
    "            outputs = model(inputs)\n",
    "            prob = torch.softmax(outputs, dim=1)\n",
    "            val_probs.extend(prob[:, 1].cpu().numpy())  # Assuming binary classification\n",
    "            val_preds.extend(outputs.argmax(dim=1).cpu().numpy())\n",
    "            val_true.extend(labels.cpu().numpy())\n",
    "    \n",
    "    val_acc = accuracy_score(val_true, val_preds)\n",
    "    val_auc = roc_auc_score(val_true, val_probs)\n",
    "    \n",
    "    # Get current learning rate\n",
    "    current_lr = optimizer.param_groups[0]['lr']\n",
    "    \n",
    "    print(f'Epoch {epoch+1}: Train Acc = {train_acc:.4f}, Train AUC = {train_auc:.4f}, Val Acc = {val_acc:.4f}, Val AUC = {val_auc:.4f}, LR = {current_lr:.6f}')\n",
    "    \n",
    "    # Early stopping and model checkpoint - now considering both accuracy and AUC\n",
    "    if val_acc > best_acc:\n",
    "        best_acc = val_acc\n",
    "        best_auc = val_auc\n",
    "        torch.save(model.state_dict(), 'best_model.pth')\n",
    "        epochs_no_improve = 0\n",
    "    else:\n",
    "        epochs_no_improve += 1\n",
    "        if epochs_no_improve >= patience:\n",
    "            print(f'Early stopping at epoch {epoch+1}')\n",
    "            early_stop = True\n",
    "    \n",
    "    # You might want to step the scheduler based on AUC instead of accuracy\n",
    "    scheduler.step(val_auc)  # or val_acc if you prefer\n",
    "    \n",
    "    if early_stop:\n",
    "        break\n",
    "\n",
    "# Load best model\n",
    "model.load_state_dict(torch.load('best_model.pth'))\n",
    "print(f'Best Validation Accuracy: {best_acc:.4f}, Best AUC: {best_auc:.4f}')\n",
    "\n",
    "# Generate confusion matrix and final AUC\n",
    "model.eval()\n",
    "all_preds, all_true = [], []\n",
    "all_probs = []\n",
    "with torch.no_grad():\n",
    "    for inputs, labels in test_loader:\n",
    "        inputs, labels = inputs.to(device), labels.to(device)\n",
    "        outputs = model(inputs)\n",
    "        prob = torch.softmax(outputs, dim=1)\n",
    "        all_probs.extend(prob[:, 1].cpu().numpy())\n",
    "        all_preds.extend(outputs.argmax(dim=1).cpu().numpy())\n",
    "        all_true.extend(labels.cpu().numpy())\n",
    "\n",
    "# Calculate final test AUC\n",
    "test_auc = roc_auc_score(all_true, all_probs)\n",
    "print(f'Final Test AUC: {test_auc:.4f}')"
   ]
  },
  {
   "cell_type": "code",
   "execution_count": 13,
   "id": "20fae30a",
   "metadata": {
    "execution": {
     "iopub.execute_input": "2025-04-02T20:57:04.125574Z",
     "iopub.status.busy": "2025-04-02T20:57:04.125031Z",
     "iopub.status.idle": "2025-04-02T20:57:04.344676Z",
     "shell.execute_reply": "2025-04-02T20:57:04.343894Z"
    },
    "papermill": {
     "duration": 20.613174,
     "end_time": "2025-04-02T20:57:04.346051",
     "exception": false,
     "start_time": "2025-04-02T20:56:43.732877",
     "status": "completed"
    },
    "tags": []
   },
   "outputs": [
    {
     "data": {
      "image/png": "[encoded data removed]",
      "text/plain": [
       "<Figure size 1000x800 with 2 Axes>"
      ]
     },
     "metadata": {},
     "output_type": "display_data"
    }
   ],
   "source": [
    "class_names = [f\"Class {i}\" for i in range(len(np.unique(all_true)))]  # Method 3\n",
    "\n",
    "# Create confusion matrix\n",
    "cm = confusion_matrix(all_true, all_preds)\n",
    "plt.figure(figsize=(10, 8))\n",
    "sns.heatmap(cm, annot=True, fmt='d', cmap='Blues', \n",
    "            xticklabels=class_names, yticklabels=class_names)\n",
    "plt.xlabel('Predicted')\n",
    "plt.ylabel('True')\n",
    "plt.title('Confusion Matrix')\n",
    "plt.show()"
   ]
  },
  {
   "cell_type": "code",
   "execution_count": 14,
   "id": "5c7f3119",
   "metadata": {
    "execution": {
     "iopub.execute_input": "2025-04-02T20:57:44.983867Z",
     "iopub.status.busy": "2025-04-02T20:57:44.983554Z",
     "iopub.status.idle": "2025-04-02T20:57:44.988371Z",
     "shell.execute_reply": "2025-04-02T20:57:44.987707Z"
    },
    "papermill": {
     "duration": 20.27669,
     "end_time": "2025-04-02T20:57:44.989709",
     "exception": false,
     "start_time": "2025-04-02T20:57:24.713019",
     "status": "completed"
    },
    "tags": []
   },
   "outputs": [
    {
     "data": {
      "text/plain": [
       "device(type='cuda')"
      ]
     },
     "execution_count": 14,
     "metadata": {},
     "output_type": "execute_result"
    }
   ],
   "source": [
    "device"
   ]
  },
  {
   "cell_type": "code",
   "execution_count": null,
   "id": "3bd15d89",
   "metadata": {
    "papermill": {
     "duration": 20.772217,
     "end_time": "2025-04-02T20:58:25.734679",
     "exception": false,
     "start_time": "2025-04-02T20:58:04.962462",
     "status": "completed"
    },
    "tags": []
   },
   "outputs": [],
   "source": []
  }
 ],
 "metadata": {
  "kaggle": {
   "accelerator": "gpu",
   "dataSources": [],
   "dockerImageVersionId": 30919,
   "isGpuEnabled": true,
   "isInternetEnabled": true,
   "language": "python",
   "sourceType": "notebook"
  },
  "kernelspec": {
   "display_name": "Python 3",
   "language": "python",
   "name": "python3"
  },
  "language_info": {
   "codemirror_mode": {
    "name": "ipython",
    "version": 3
   },
   "file_extension": ".py",
   "mimetype": "text/x-python",
   "name": "python",
   "nbconvert_exporter": "python",
   "pygments_lexer": "ipython3",
   "version": "3.10.12"
  },
  "papermill": {
   "default_parameters": {},
   "duration": 13590.151361,
   "end_time": "2025-04-02T20:58:48.152230",
   "environment_variables": {},
   "exception": null,
   "input_path": "__notebook__.ipynb",
   "output_path": "__notebook__.ipynb",
   "parameters": {},
   "start_time": "2025-04-02T17:12:18.000869",
   "version": "2.6.0"
  }
 },
 "nbformat": 4,
 "nbformat_minor": 5
}
